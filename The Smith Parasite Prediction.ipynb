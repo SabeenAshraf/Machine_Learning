{
 "cells": [
  {
   "cell_type": "code",
   "execution_count": 1,
   "metadata": {
    "colab": {
     "base_uri": "https://localhost:8080/",
     "height": 574
    },
    "id": "fA1dxscovfn2",
    "outputId": "dfc43ee8-c1b9-4845-b692-ef666514acb8"
   },
   "outputs": [
    {
     "name": "stdout",
     "output_type": "stream",
     "text": [
      "Looking in indexes: https://pypi.org/simple, https://us-python.pkg.dev/colab-wheels/public/simple/\n",
      "Requirement already satisfied: catboost in /usr/local/lib/python3.8/dist-packages (1.1.1)\n",
      "Requirement already satisfied: xgboost in /usr/local/lib/python3.8/dist-packages (0.90)\n",
      "Requirement already satisfied: numpy>=1.16.0 in /usr/local/lib/python3.8/dist-packages (from catboost) (1.21.6)\n",
      "Requirement already satisfied: matplotlib in /usr/local/lib/python3.8/dist-packages (from catboost) (3.2.2)\n",
      "Requirement already satisfied: pandas>=0.24.0 in /usr/local/lib/python3.8/dist-packages (from catboost) (1.3.5)\n",
      "Requirement already satisfied: six in /usr/local/lib/python3.8/dist-packages (from catboost) (1.15.0)\n",
      "Requirement already satisfied: plotly in /usr/local/lib/python3.8/dist-packages (from catboost) (5.5.0)\n",
      "Requirement already satisfied: scipy in /usr/local/lib/python3.8/dist-packages (from catboost) (1.7.3)\n",
      "Requirement already satisfied: graphviz in /usr/local/lib/python3.8/dist-packages (from catboost) (0.10.1)\n",
      "Requirement already satisfied: pytz>=2017.3 in /usr/local/lib/python3.8/dist-packages (from pandas>=0.24.0->catboost) (2022.6)\n",
      "Requirement already satisfied: python-dateutil>=2.7.3 in /usr/local/lib/python3.8/dist-packages (from pandas>=0.24.0->catboost) (2.8.2)\n",
      "Requirement already satisfied: cycler>=0.10 in /usr/local/lib/python3.8/dist-packages (from matplotlib->catboost) (0.11.0)\n",
      "Requirement already satisfied: pyparsing!=2.0.4,!=2.1.2,!=2.1.6,>=2.0.1 in /usr/local/lib/python3.8/dist-packages (from matplotlib->catboost) (3.0.9)\n",
      "Requirement already satisfied: kiwisolver>=1.0.1 in /usr/local/lib/python3.8/dist-packages (from matplotlib->catboost) (1.4.4)\n",
      "Requirement already satisfied: tenacity>=6.2.0 in /usr/local/lib/python3.8/dist-packages (from plotly->catboost) (8.1.0)\n",
      "Please, uplouad your kaggle.json file\n"
     ]
    },
    {
     "data": {
      "text/html": [
       "\n",
       "     <input type=\"file\" id=\"files-3906a566-bea4-493a-9e51-74ed4e5afbdb\" name=\"files[]\" multiple disabled\n",
       "        style=\"border:none\" />\n",
       "     <output id=\"result-3906a566-bea4-493a-9e51-74ed4e5afbdb\">\n",
       "      Upload widget is only available when the cell has been executed in the\n",
       "      current browser session. Please rerun this cell to enable.\n",
       "      </output>\n",
       "      <script>// Copyright 2017 Google LLC\n",
       "//\n",
       "// Licensed under the Apache License, Version 2.0 (the \"License\");\n",
       "// you may not use this file except in compliance with the License.\n",
       "// You may obtain a copy of the License at\n",
       "//\n",
       "//      http://www.apache.org/licenses/LICENSE-2.0\n",
       "//\n",
       "// Unless required by applicable law or agreed to in writing, software\n",
       "// distributed under the License is distributed on an \"AS IS\" BASIS,\n",
       "// WITHOUT WARRANTIES OR CONDITIONS OF ANY KIND, either express or implied.\n",
       "// See the License for the specific language governing permissions and\n",
       "// limitations under the License.\n",
       "\n",
       "/**\n",
       " * @fileoverview Helpers for google.colab Python module.\n",
       " */\n",
       "(function(scope) {\n",
       "function span(text, styleAttributes = {}) {\n",
       "  const element = document.createElement('span');\n",
       "  element.textContent = text;\n",
       "  for (const key of Object.keys(styleAttributes)) {\n",
       "    element.style[key] = styleAttributes[key];\n",
       "  }\n",
       "  return element;\n",
       "}\n",
       "\n",
       "// Max number of bytes which will be uploaded at a time.\n",
       "const MAX_PAYLOAD_SIZE = 100 * 1024;\n",
       "\n",
       "function _uploadFiles(inputId, outputId) {\n",
       "  const steps = uploadFilesStep(inputId, outputId);\n",
       "  const outputElement = document.getElementById(outputId);\n",
       "  // Cache steps on the outputElement to make it available for the next call\n",
       "  // to uploadFilesContinue from Python.\n",
       "  outputElement.steps = steps;\n",
       "\n",
       "  return _uploadFilesContinue(outputId);\n",
       "}\n",
       "\n",
       "// This is roughly an async generator (not supported in the browser yet),\n",
       "// where there are multiple asynchronous steps and the Python side is going\n",
       "// to poll for completion of each step.\n",
       "// This uses a Promise to block the python side on completion of each step,\n",
       "// then passes the result of the previous step as the input to the next step.\n",
       "function _uploadFilesContinue(outputId) {\n",
       "  const outputElement = document.getElementById(outputId);\n",
       "  const steps = outputElement.steps;\n",
       "\n",
       "  const next = steps.next(outputElement.lastPromiseValue);\n",
       "  return Promise.resolve(next.value.promise).then((value) => {\n",
       "    // Cache the last promise value to make it available to the next\n",
       "    // step of the generator.\n",
       "    outputElement.lastPromiseValue = value;\n",
       "    return next.value.response;\n",
       "  });\n",
       "}\n",
       "\n",
       "/**\n",
       " * Generator function which is called between each async step of the upload\n",
       " * process.\n",
       " * @param {string} inputId Element ID of the input file picker element.\n",
       " * @param {string} outputId Element ID of the output display.\n",
       " * @return {!Iterable<!Object>} Iterable of next steps.\n",
       " */\n",
       "function* uploadFilesStep(inputId, outputId) {\n",
       "  const inputElement = document.getElementById(inputId);\n",
       "  inputElement.disabled = false;\n",
       "\n",
       "  const outputElement = document.getElementById(outputId);\n",
       "  outputElement.innerHTML = '';\n",
       "\n",
       "  const pickedPromise = new Promise((resolve) => {\n",
       "    inputElement.addEventListener('change', (e) => {\n",
       "      resolve(e.target.files);\n",
       "    });\n",
       "  });\n",
       "\n",
       "  const cancel = document.createElement('button');\n",
       "  inputElement.parentElement.appendChild(cancel);\n",
       "  cancel.textContent = 'Cancel upload';\n",
       "  const cancelPromise = new Promise((resolve) => {\n",
       "    cancel.onclick = () => {\n",
       "      resolve(null);\n",
       "    };\n",
       "  });\n",
       "\n",
       "  // Wait for the user to pick the files.\n",
       "  const files = yield {\n",
       "    promise: Promise.race([pickedPromise, cancelPromise]),\n",
       "    response: {\n",
       "      action: 'starting',\n",
       "    }\n",
       "  };\n",
       "\n",
       "  cancel.remove();\n",
       "\n",
       "  // Disable the input element since further picks are not allowed.\n",
       "  inputElement.disabled = true;\n",
       "\n",
       "  if (!files) {\n",
       "    return {\n",
       "      response: {\n",
       "        action: 'complete',\n",
       "      }\n",
       "    };\n",
       "  }\n",
       "\n",
       "  for (const file of files) {\n",
       "    const li = document.createElement('li');\n",
       "    li.append(span(file.name, {fontWeight: 'bold'}));\n",
       "    li.append(span(\n",
       "        `(${file.type || 'n/a'}) - ${file.size} bytes, ` +\n",
       "        `last modified: ${\n",
       "            file.lastModifiedDate ? file.lastModifiedDate.toLocaleDateString() :\n",
       "                                    'n/a'} - `));\n",
       "    const percent = span('0% done');\n",
       "    li.appendChild(percent);\n",
       "\n",
       "    outputElement.appendChild(li);\n",
       "\n",
       "    const fileDataPromise = new Promise((resolve) => {\n",
       "      const reader = new FileReader();\n",
       "      reader.onload = (e) => {\n",
       "        resolve(e.target.result);\n",
       "      };\n",
       "      reader.readAsArrayBuffer(file);\n",
       "    });\n",
       "    // Wait for the data to be ready.\n",
       "    let fileData = yield {\n",
       "      promise: fileDataPromise,\n",
       "      response: {\n",
       "        action: 'continue',\n",
       "      }\n",
       "    };\n",
       "\n",
       "    // Use a chunked sending to avoid message size limits. See b/62115660.\n",
       "    let position = 0;\n",
       "    do {\n",
       "      const length = Math.min(fileData.byteLength - position, MAX_PAYLOAD_SIZE);\n",
       "      const chunk = new Uint8Array(fileData, position, length);\n",
       "      position += length;\n",
       "\n",
       "      const base64 = btoa(String.fromCharCode.apply(null, chunk));\n",
       "      yield {\n",
       "        response: {\n",
       "          action: 'append',\n",
       "          file: file.name,\n",
       "          data: base64,\n",
       "        },\n",
       "      };\n",
       "\n",
       "      let percentDone = fileData.byteLength === 0 ?\n",
       "          100 :\n",
       "          Math.round((position / fileData.byteLength) * 100);\n",
       "      percent.textContent = `${percentDone}% done`;\n",
       "\n",
       "    } while (position < fileData.byteLength);\n",
       "  }\n",
       "\n",
       "  // All done.\n",
       "  yield {\n",
       "    response: {\n",
       "      action: 'complete',\n",
       "    }\n",
       "  };\n",
       "}\n",
       "\n",
       "scope.google = scope.google || {};\n",
       "scope.google.colab = scope.google.colab || {};\n",
       "scope.google.colab._files = {\n",
       "  _uploadFiles,\n",
       "  _uploadFilesContinue,\n",
       "};\n",
       "})(self);\n",
       "</script> "
      ],
      "text/plain": [
       "<IPython.core.display.HTML object>"
      ]
     },
     "metadata": {},
     "output_type": "display_data"
    },
    {
     "name": "stdout",
     "output_type": "stream",
     "text": [
      "Saving kaggle.json to kaggle (1).json\n",
      "mkdir: cannot create directory ‘/root/.kaggle’: File exists\n",
      "the-smith-parasite.zip: Skipping, found more recently modified local copy (use --force to force download)\n",
      "Archive:  the-smith-parasite.zip\n",
      "replace Sample_Submission.csv? [y]es, [n]o, [A]ll, [N]one, [r]ename: A\n",
      "  inflating: Sample_Submission.csv   \n",
      "  inflating: test_demo.xlsx          \n",
      "  inflating: test_habits.xlsx        \n",
      "  inflating: test_health.xlsx        \n",
      "  inflating: train_demo.xlsx         \n",
      "  inflating: train_habits.xlsx       \n",
      "  inflating: train_health.xlsx       \n"
     ]
    }
   ],
   "source": [
    "!pip install -q kaggle\n",
    "!pip install catboost xgboost\n",
    "\n",
    "from google.colab import files\n",
    "print('Please, uplouad your kaggle.json file')\n",
    "files.upload()\n",
    "\n",
    "! mkdir ~/.kaggle\n",
    "! cp kaggle.json ~/.kaggle/\n",
    "! chmod 600 ~/.kaggle/kaggle.json\n",
    "! kaggle competitions download -c 'the-smith-parasite'\n",
    "! unzip the-smith-parasite.zip"
   ]
  },
  {
   "cell_type": "markdown",
   "metadata": {
    "id": "SBo8mp9t4Kd4"
   },
   "source": [
    "# Libraries imports"
   ]
  },
  {
   "cell_type": "code",
   "execution_count": 2,
   "metadata": {
    "id": "HnIFO0ex3cVc"
   },
   "outputs": [],
   "source": [
    "import pandas as pd\n",
    "import numpy as np\n",
    "from math import ceil\n",
    "from datetime import date\n",
    "import os\n",
    "\n",
    "# ML modeling\n",
    "from sklearn.model_selection import train_test_split, cross_val_score, RepeatedStratifiedKFold, GridSearchCV\n",
    "from sklearn.metrics import recall_score, precision_score, accuracy_score, f1_score\n",
    "from sklearn.preprocessing import StandardScaler\n",
    "from sklearn.linear_model import LogisticRegression\n",
    "from sklearn.tree import DecisionTreeClassifier\n",
    "from sklearn.neural_network import MLPClassifier\n",
    "from sklearn.ensemble import RandomForestClassifier, GradientBoostingClassifier, AdaBoostClassifier, StackingClassifier\n",
    "from sklearn.svm import SVC\n",
    "from catboost import CatBoostClassifier\n",
    "from xgboost import XGBClassifier\n",
    "\n",
    "# Graphics\n",
    "import matplotlib.pyplot as plt\n",
    "import seaborn as sns\n",
    "\n",
    "# Utilities\n",
    "import warnings\n",
    "from tqdm import tqdm\n",
    "warnings.filterwarnings('ignore')\n",
    "\n",
    "RS = 42"
   ]
  },
  {
   "cell_type": "markdown",
   "metadata": {
    "id": "hXLHYm_k4Rpv"
   },
   "source": [
    "# Data read\n",
    "## Train / Test Datasets construction"
   ]
  },
  {
   "cell_type": "code",
   "execution_count": 3,
   "metadata": {
    "id": "GGg6hGe64o7S"
   },
   "outputs": [],
   "source": [
    "def make_datasets():\n",
    "  def get_filenames(suffix=\".xlsx\" ):\n",
    "      files = [filename for filename in os.listdir() if filename.endswith(suffix) ]\n",
    "      return files\n",
    "\n",
    "  files = get_filenames(suffix=\".xlsx\" )\n",
    "\n",
    "  train_frames, test_frames = [],[]\n",
    "  for file in files:\n",
    "    if 'train' in file:\n",
    "      train_frames.append(pd.read_excel(file).set_index('PatientID'))\n",
    "    elif 'test' in file:\n",
    "      test_frames.append(pd.read_excel(file).set_index('PatientID'))\n",
    "\n",
    "  train_df = pd.concat(train_frames, axis = 1)\n",
    "  test_df = pd.concat(test_frames, axis = 1)\n",
    "  return train_df, test_df"
   ]
  },
  {
   "cell_type": "code",
   "execution_count": 4,
   "metadata": {
    "colab": {
     "base_uri": "https://localhost:8080/",
     "height": 740
    },
    "id": "v9jPhZSR4OwV",
    "outputId": "993d1436-8746-4323-bb3a-4c56b6c503f3"
   },
   "outputs": [
    {
     "name": "stdout",
     "output_type": "stream",
     "text": [
      "Train data size: 800 x 18\n",
      "Test data size: 225 x 17\n"
     ]
    },
    {
     "data": {
      "text/html": [
       "\n",
       "  <div id=\"df-cd74c27e-3e8f-4ad4-a49e-bed4fa336ea0\">\n",
       "    <div class=\"colab-df-container\">\n",
       "      <div>\n",
       "<style scoped>\n",
       "    .dataframe tbody tr th:only-of-type {\n",
       "        vertical-align: middle;\n",
       "    }\n",
       "\n",
       "    .dataframe tbody tr th {\n",
       "        vertical-align: top;\n",
       "    }\n",
       "\n",
       "    .dataframe thead th {\n",
       "        text-align: right;\n",
       "    }\n",
       "</style>\n",
       "<table border=\"1\" class=\"dataframe\">\n",
       "  <thead>\n",
       "    <tr style=\"text-align: right;\">\n",
       "      <th></th>\n",
       "      <th>PatientID</th>\n",
       "      <th>Height</th>\n",
       "      <th>Weight</th>\n",
       "      <th>High_Cholesterol</th>\n",
       "      <th>Blood_Pressure</th>\n",
       "      <th>Mental_Health</th>\n",
       "      <th>Physical_Health</th>\n",
       "      <th>Checkup</th>\n",
       "      <th>Diabetes</th>\n",
       "      <th>Smoking_Habit</th>\n",
       "      <th>Drinking_Habit</th>\n",
       "      <th>Exercise</th>\n",
       "      <th>Fruit_Habit</th>\n",
       "      <th>Water_Habit</th>\n",
       "      <th>Name</th>\n",
       "      <th>Birth_Year</th>\n",
       "      <th>Region</th>\n",
       "      <th>Education</th>\n",
       "      <th>Disease</th>\n",
       "    </tr>\n",
       "  </thead>\n",
       "  <tbody>\n",
       "    <tr>\n",
       "      <th>0</th>\n",
       "      <td>1167</td>\n",
       "      <td>155</td>\n",
       "      <td>67</td>\n",
       "      <td>358</td>\n",
       "      <td>120</td>\n",
       "      <td>21</td>\n",
       "      <td>2</td>\n",
       "      <td>More than 3 years</td>\n",
       "      <td>Neither I nor my immediate family have diabetes.</td>\n",
       "      <td>No</td>\n",
       "      <td>I usually consume alcohol every day</td>\n",
       "      <td>Yes</td>\n",
       "      <td>Less than 1. I do not consume fruits every day.</td>\n",
       "      <td>Between one liter and two liters</td>\n",
       "      <td>Mrs. Stephanie Gay</td>\n",
       "      <td>1965</td>\n",
       "      <td>London</td>\n",
       "      <td>High School Incomplete (10th to 11th grade)</td>\n",
       "      <td>1.0</td>\n",
       "    </tr>\n",
       "    <tr>\n",
       "      <th>1</th>\n",
       "      <td>1805</td>\n",
       "      <td>173</td>\n",
       "      <td>88</td>\n",
       "      <td>230</td>\n",
       "      <td>142</td>\n",
       "      <td>9</td>\n",
       "      <td>0</td>\n",
       "      <td>Not sure</td>\n",
       "      <td>Neither I nor my immediate family have diabetes.</td>\n",
       "      <td>No</td>\n",
       "      <td>I consider myself a social drinker</td>\n",
       "      <td>Yes</td>\n",
       "      <td>Less than 1. I do not consume fruits every day.</td>\n",
       "      <td>Between one liter and two liters</td>\n",
       "      <td>Mr. Sherman Nero</td>\n",
       "      <td>1969</td>\n",
       "      <td>South West</td>\n",
       "      <td>High School Incomplete (10th to 11th grade)</td>\n",
       "      <td>1.0</td>\n",
       "    </tr>\n",
       "    <tr>\n",
       "      <th>2</th>\n",
       "      <td>1557</td>\n",
       "      <td>162</td>\n",
       "      <td>68</td>\n",
       "      <td>226</td>\n",
       "      <td>122</td>\n",
       "      <td>26</td>\n",
       "      <td>0</td>\n",
       "      <td>More than 3 years</td>\n",
       "      <td>Neither I nor my immediate family have diabetes.</td>\n",
       "      <td>No</td>\n",
       "      <td>I consider myself a social drinker</td>\n",
       "      <td>No</td>\n",
       "      <td>Less than 1. I do not consume fruits every day.</td>\n",
       "      <td>More than half a liter but less than one liter</td>\n",
       "      <td>Mr. Mark Boller</td>\n",
       "      <td>1974</td>\n",
       "      <td>Yorkshire and the Humber</td>\n",
       "      <td>Elementary School (1st to 9th grade)</td>\n",
       "      <td>1.0</td>\n",
       "    </tr>\n",
       "    <tr>\n",
       "      <th>3</th>\n",
       "      <td>1658</td>\n",
       "      <td>180</td>\n",
       "      <td>66</td>\n",
       "      <td>313</td>\n",
       "      <td>125</td>\n",
       "      <td>13</td>\n",
       "      <td>8</td>\n",
       "      <td>Not sure</td>\n",
       "      <td>I have/had pregnancy diabetes or borderline di...</td>\n",
       "      <td>No</td>\n",
       "      <td>I usually consume alcohol every day</td>\n",
       "      <td>Yes</td>\n",
       "      <td>Less than 1. I do not consume fruits every day.</td>\n",
       "      <td>More than half a liter but less than one liter</td>\n",
       "      <td>Mr. David Caffee</td>\n",
       "      <td>1958</td>\n",
       "      <td>London</td>\n",
       "      <td>University Complete (3 or more years)</td>\n",
       "      <td>0.0</td>\n",
       "    </tr>\n",
       "    <tr>\n",
       "      <th>4</th>\n",
       "      <td>1544</td>\n",
       "      <td>180</td>\n",
       "      <td>58</td>\n",
       "      <td>277</td>\n",
       "      <td>125</td>\n",
       "      <td>18</td>\n",
       "      <td>2</td>\n",
       "      <td>More than 3 years</td>\n",
       "      <td>I have/had pregnancy diabetes or borderline di...</td>\n",
       "      <td>No</td>\n",
       "      <td>I consider myself a social drinker</td>\n",
       "      <td>No</td>\n",
       "      <td>1 to 2 pieces of fruit in average</td>\n",
       "      <td>More than half a liter but less than one liter</td>\n",
       "      <td>Mr. Gerald Emery</td>\n",
       "      <td>1968</td>\n",
       "      <td>South East</td>\n",
       "      <td>University Incomplete (1 to 2 years)</td>\n",
       "      <td>1.0</td>\n",
       "    </tr>\n",
       "  </tbody>\n",
       "</table>\n",
       "</div>\n",
       "      <button class=\"colab-df-convert\" onclick=\"convertToInteractive('df-cd74c27e-3e8f-4ad4-a49e-bed4fa336ea0')\"\n",
       "              title=\"Convert this dataframe to an interactive table.\"\n",
       "              style=\"display:none;\">\n",
       "        \n",
       "  <svg xmlns=\"http://www.w3.org/2000/svg\" height=\"24px\"viewBox=\"0 0 24 24\"\n",
       "       width=\"24px\">\n",
       "    <path d=\"M0 0h24v24H0V0z\" fill=\"none\"/>\n",
       "    <path d=\"M18.56 5.44l.94 2.06.94-2.06 2.06-.94-2.06-.94-.94-2.06-.94 2.06-2.06.94zm-11 1L8.5 8.5l.94-2.06 2.06-.94-2.06-.94L8.5 2.5l-.94 2.06-2.06.94zm10 10l.94 2.06.94-2.06 2.06-.94-2.06-.94-.94-2.06-.94 2.06-2.06.94z\"/><path d=\"M17.41 7.96l-1.37-1.37c-.4-.4-.92-.59-1.43-.59-.52 0-1.04.2-1.43.59L10.3 9.45l-7.72 7.72c-.78.78-.78 2.05 0 2.83L4 21.41c.39.39.9.59 1.41.59.51 0 1.02-.2 1.41-.59l7.78-7.78 2.81-2.81c.8-.78.8-2.07 0-2.86zM5.41 20L4 18.59l7.72-7.72 1.47 1.35L5.41 20z\"/>\n",
       "  </svg>\n",
       "      </button>\n",
       "      \n",
       "  <style>\n",
       "    .colab-df-container {\n",
       "      display:flex;\n",
       "      flex-wrap:wrap;\n",
       "      gap: 12px;\n",
       "    }\n",
       "\n",
       "    .colab-df-convert {\n",
       "      background-color: #E8F0FE;\n",
       "      border: none;\n",
       "      border-radius: 50%;\n",
       "      cursor: pointer;\n",
       "      display: none;\n",
       "      fill: #1967D2;\n",
       "      height: 32px;\n",
       "      padding: 0 0 0 0;\n",
       "      width: 32px;\n",
       "    }\n",
       "\n",
       "    .colab-df-convert:hover {\n",
       "      background-color: #E2EBFA;\n",
       "      box-shadow: 0px 1px 2px rgba(60, 64, 67, 0.3), 0px 1px 3px 1px rgba(60, 64, 67, 0.15);\n",
       "      fill: #174EA6;\n",
       "    }\n",
       "\n",
       "    [theme=dark] .colab-df-convert {\n",
       "      background-color: #3B4455;\n",
       "      fill: #D2E3FC;\n",
       "    }\n",
       "\n",
       "    [theme=dark] .colab-df-convert:hover {\n",
       "      background-color: #434B5C;\n",
       "      box-shadow: 0px 1px 3px 1px rgba(0, 0, 0, 0.15);\n",
       "      filter: drop-shadow(0px 1px 2px rgba(0, 0, 0, 0.3));\n",
       "      fill: #FFFFFF;\n",
       "    }\n",
       "  </style>\n",
       "\n",
       "      <script>\n",
       "        const buttonEl =\n",
       "          document.querySelector('#df-cd74c27e-3e8f-4ad4-a49e-bed4fa336ea0 button.colab-df-convert');\n",
       "        buttonEl.style.display =\n",
       "          google.colab.kernel.accessAllowed ? 'block' : 'none';\n",
       "\n",
       "        async function convertToInteractive(key) {\n",
       "          const element = document.querySelector('#df-cd74c27e-3e8f-4ad4-a49e-bed4fa336ea0');\n",
       "          const dataTable =\n",
       "            await google.colab.kernel.invokeFunction('convertToInteractive',\n",
       "                                                     [key], {});\n",
       "          if (!dataTable) return;\n",
       "\n",
       "          const docLinkHtml = 'Like what you see? Visit the ' +\n",
       "            '<a target=\"_blank\" href=https://colab.research.google.com/notebooks/data_table.ipynb>data table notebook</a>'\n",
       "            + ' to learn more about interactive tables.';\n",
       "          element.innerHTML = '';\n",
       "          dataTable['output_type'] = 'display_data';\n",
       "          await google.colab.output.renderOutput(dataTable, element);\n",
       "          const docLink = document.createElement('div');\n",
       "          docLink.innerHTML = docLinkHtml;\n",
       "          element.appendChild(docLink);\n",
       "        }\n",
       "      </script>\n",
       "    </div>\n",
       "  </div>\n",
       "  "
      ],
      "text/plain": [
       "   PatientID  Height  Weight  High_Cholesterol  Blood_Pressure  Mental_Health  \\\n",
       "0       1167     155      67               358             120             21   \n",
       "1       1805     173      88               230             142              9   \n",
       "2       1557     162      68               226             122             26   \n",
       "3       1658     180      66               313             125             13   \n",
       "4       1544     180      58               277             125             18   \n",
       "\n",
       "   Physical_Health            Checkup  \\\n",
       "0                2  More than 3 years   \n",
       "1                0           Not sure   \n",
       "2                0  More than 3 years   \n",
       "3                8           Not sure   \n",
       "4                2  More than 3 years   \n",
       "\n",
       "                                            Diabetes Smoking_Habit  \\\n",
       "0   Neither I nor my immediate family have diabetes.            No   \n",
       "1   Neither I nor my immediate family have diabetes.            No   \n",
       "2   Neither I nor my immediate family have diabetes.            No   \n",
       "3  I have/had pregnancy diabetes or borderline di...            No   \n",
       "4  I have/had pregnancy diabetes or borderline di...            No   \n",
       "\n",
       "                        Drinking_Habit Exercise  \\\n",
       "0  I usually consume alcohol every day      Yes   \n",
       "1   I consider myself a social drinker      Yes   \n",
       "2   I consider myself a social drinker       No   \n",
       "3  I usually consume alcohol every day      Yes   \n",
       "4   I consider myself a social drinker       No   \n",
       "\n",
       "                                       Fruit_Habit  \\\n",
       "0  Less than 1. I do not consume fruits every day.   \n",
       "1  Less than 1. I do not consume fruits every day.   \n",
       "2  Less than 1. I do not consume fruits every day.   \n",
       "3  Less than 1. I do not consume fruits every day.   \n",
       "4                1 to 2 pieces of fruit in average   \n",
       "\n",
       "                                      Water_Habit                Name  \\\n",
       "0                Between one liter and two liters  Mrs. Stephanie Gay   \n",
       "1                Between one liter and two liters    Mr. Sherman Nero   \n",
       "2  More than half a liter but less than one liter     Mr. Mark Boller   \n",
       "3  More than half a liter but less than one liter    Mr. David Caffee   \n",
       "4  More than half a liter but less than one liter    Mr. Gerald Emery   \n",
       "\n",
       "   Birth_Year                    Region  \\\n",
       "0        1965                    London   \n",
       "1        1969                South West   \n",
       "2        1974  Yorkshire and the Humber   \n",
       "3        1958                    London   \n",
       "4        1968                South East   \n",
       "\n",
       "                                     Education  Disease  \n",
       "0  High School Incomplete (10th to 11th grade)      1.0  \n",
       "1  High School Incomplete (10th to 11th grade)      1.0  \n",
       "2         Elementary School (1st to 9th grade)      1.0  \n",
       "3        University Complete (3 or more years)      0.0  \n",
       "4         University Incomplete (1 to 2 years)      1.0  "
      ]
     },
     "execution_count": 4,
     "metadata": {},
     "output_type": "execute_result"
    }
   ],
   "source": [
    "train_df, test_df = make_datasets()\n",
    "print(f'Train data size: {train_df.shape[0]} x {train_df.shape[1]}')\n",
    "print(f'Test data size: {test_df.shape[0]} x {test_df.shape[1]}')\n",
    "\n",
    "pid = list(test_df.index)\n",
    "data = pd.concat([train_df, test_df]).reset_index()\n",
    "data.head()"
   ]
  },
  {
   "cell_type": "markdown",
   "metadata": {
    "id": "LRWkwWCS8FDe"
   },
   "source": [
    "# Data observation"
   ]
  },
  {
   "cell_type": "code",
   "execution_count": 5,
   "metadata": {
    "colab": {
     "base_uri": "https://localhost:8080/"
    },
    "id": "c4yxQT0H7mru",
    "outputId": "db02360f-538c-4511-a7e4-07f26d1915ba"
   },
   "outputs": [
    {
     "name": "stdout",
     "output_type": "stream",
     "text": [
      "<class 'pandas.core.frame.DataFrame'>\n",
      "RangeIndex: 1025 entries, 0 to 1024\n",
      "Data columns (total 19 columns):\n",
      " #   Column            Non-Null Count  Dtype  \n",
      "---  ------            --------------  -----  \n",
      " 0   PatientID         1025 non-null   int64  \n",
      " 1   Height            1025 non-null   int64  \n",
      " 2   Weight            1025 non-null   int64  \n",
      " 3   High_Cholesterol  1025 non-null   int64  \n",
      " 4   Blood_Pressure    1025 non-null   int64  \n",
      " 5   Mental_Health     1025 non-null   int64  \n",
      " 6   Physical_Health   1025 non-null   int64  \n",
      " 7   Checkup           1025 non-null   object \n",
      " 8   Diabetes          1025 non-null   object \n",
      " 9   Smoking_Habit     1025 non-null   object \n",
      " 10  Drinking_Habit    1025 non-null   object \n",
      " 11  Exercise          1025 non-null   object \n",
      " 12  Fruit_Habit       1025 non-null   object \n",
      " 13  Water_Habit       1025 non-null   object \n",
      " 14  Name              1025 non-null   object \n",
      " 15  Birth_Year        1025 non-null   int64  \n",
      " 16  Region            1025 non-null   object \n",
      " 17  Education         1012 non-null   object \n",
      " 18  Disease           800 non-null    float64\n",
      "dtypes: float64(1), int64(8), object(10)\n",
      "memory usage: 152.3+ KB\n"
     ]
    }
   ],
   "source": [
    "data.info()"
   ]
  },
  {
   "cell_type": "code",
   "execution_count": 6,
   "metadata": {
    "colab": {
     "base_uri": "https://localhost:8080/"
    },
    "id": "AghqEoqwvavk",
    "outputId": "a3841c07-d5aa-4ead-b524-51dec98c938f"
   },
   "outputs": [
    {
     "name": "stdout",
     "output_type": "stream",
     "text": [
      "PatientID: 1025 unique values\n",
      "Height: 15 unique values\n",
      "Weight: 58 unique values\n",
      "High_Cholesterol: 152 unique values\n",
      "Blood_Pressure: 49 unique values\n",
      "Mental_Health: 28 unique values\n",
      "Physical_Health: 24 unique values\n",
      "Checkup: 4 unique values\n",
      "Diabetes: 4 unique values\n",
      "Smoking_Habit: 2 unique values\n",
      "Drinking_Habit: 3 unique values\n",
      "Exercise: 2 unique values\n",
      "Fruit_Habit: 5 unique values\n",
      "Water_Habit: 3 unique values\n",
      "Name: 1023 unique values\n",
      "Birth_Year: 50 unique values\n",
      "Region: 10 unique values\n",
      "Education: 6 unique values\n",
      "Disease: 2 unique values\n"
     ]
    }
   ],
   "source": [
    "# Get numbers of unique observations\n",
    "for col in data.columns:\n",
    "  print(f'{col}: {data[col].nunique()} unique values')"
   ]
  },
  {
   "cell_type": "code",
   "execution_count": 7,
   "metadata": {
    "colab": {
     "base_uri": "https://localhost:8080/",
     "height": 300
    },
    "id": "cP863r6_wPa1",
    "outputId": "7f787d1a-cc05-4255-b61d-223d4006d744"
   },
   "outputs": [
    {
     "data": {
      "text/html": [
       "\n",
       "  <div id=\"df-ce6f14f7-7c5f-4f46-808a-1cf0a23f7303\">\n",
       "    <div class=\"colab-df-container\">\n",
       "      <div>\n",
       "<style scoped>\n",
       "    .dataframe tbody tr th:only-of-type {\n",
       "        vertical-align: middle;\n",
       "    }\n",
       "\n",
       "    .dataframe tbody tr th {\n",
       "        vertical-align: top;\n",
       "    }\n",
       "\n",
       "    .dataframe thead th {\n",
       "        text-align: right;\n",
       "    }\n",
       "</style>\n",
       "<table border=\"1\" class=\"dataframe\">\n",
       "  <thead>\n",
       "    <tr style=\"text-align: right;\">\n",
       "      <th></th>\n",
       "      <th>PatientID</th>\n",
       "      <th>Height</th>\n",
       "      <th>Weight</th>\n",
       "      <th>High_Cholesterol</th>\n",
       "      <th>Blood_Pressure</th>\n",
       "      <th>Mental_Health</th>\n",
       "      <th>Physical_Health</th>\n",
       "      <th>Birth_Year</th>\n",
       "      <th>Disease</th>\n",
       "    </tr>\n",
       "  </thead>\n",
       "  <tbody>\n",
       "    <tr>\n",
       "      <th>count</th>\n",
       "      <td>1025.000000</td>\n",
       "      <td>1025.000000</td>\n",
       "      <td>1025.000000</td>\n",
       "      <td>1025.00000</td>\n",
       "      <td>1025.000000</td>\n",
       "      <td>1025.000000</td>\n",
       "      <td>1025.000000</td>\n",
       "      <td>1025.000000</td>\n",
       "      <td>800.000000</td>\n",
       "    </tr>\n",
       "    <tr>\n",
       "      <th>mean</th>\n",
       "      <td>1512.000000</td>\n",
       "      <td>167.721951</td>\n",
       "      <td>67.821463</td>\n",
       "      <td>250.00000</td>\n",
       "      <td>131.611707</td>\n",
       "      <td>17.389268</td>\n",
       "      <td>4.738537</td>\n",
       "      <td>1966.395122</td>\n",
       "      <td>0.513750</td>\n",
       "    </tr>\n",
       "    <tr>\n",
       "      <th>std</th>\n",
       "      <td>296.036315</td>\n",
       "      <td>7.982877</td>\n",
       "      <td>12.251687</td>\n",
       "      <td>51.59251</td>\n",
       "      <td>17.516718</td>\n",
       "      <td>5.281313</td>\n",
       "      <td>5.596449</td>\n",
       "      <td>14.335373</td>\n",
       "      <td>0.500124</td>\n",
       "    </tr>\n",
       "    <tr>\n",
       "      <th>min</th>\n",
       "      <td>1000.000000</td>\n",
       "      <td>151.000000</td>\n",
       "      <td>40.000000</td>\n",
       "      <td>130.00000</td>\n",
       "      <td>94.000000</td>\n",
       "      <td>0.000000</td>\n",
       "      <td>0.000000</td>\n",
       "      <td>1855.000000</td>\n",
       "      <td>0.000000</td>\n",
       "    </tr>\n",
       "    <tr>\n",
       "      <th>25%</th>\n",
       "      <td>1256.000000</td>\n",
       "      <td>162.000000</td>\n",
       "      <td>58.000000</td>\n",
       "      <td>215.00000</td>\n",
       "      <td>120.000000</td>\n",
       "      <td>13.000000</td>\n",
       "      <td>0.000000</td>\n",
       "      <td>1961.000000</td>\n",
       "      <td>0.000000</td>\n",
       "    </tr>\n",
       "    <tr>\n",
       "      <th>50%</th>\n",
       "      <td>1512.000000</td>\n",
       "      <td>167.000000</td>\n",
       "      <td>68.000000</td>\n",
       "      <td>244.00000</td>\n",
       "      <td>130.000000</td>\n",
       "      <td>18.000000</td>\n",
       "      <td>3.000000</td>\n",
       "      <td>1966.000000</td>\n",
       "      <td>1.000000</td>\n",
       "    </tr>\n",
       "    <tr>\n",
       "      <th>75%</th>\n",
       "      <td>1768.000000</td>\n",
       "      <td>173.000000</td>\n",
       "      <td>77.000000</td>\n",
       "      <td>279.00000</td>\n",
       "      <td>140.000000</td>\n",
       "      <td>21.000000</td>\n",
       "      <td>8.000000</td>\n",
       "      <td>1974.000000</td>\n",
       "      <td>1.000000</td>\n",
       "    </tr>\n",
       "    <tr>\n",
       "      <th>max</th>\n",
       "      <td>2024.000000</td>\n",
       "      <td>180.000000</td>\n",
       "      <td>97.000000</td>\n",
       "      <td>568.00000</td>\n",
       "      <td>200.000000</td>\n",
       "      <td>29.000000</td>\n",
       "      <td>30.000000</td>\n",
       "      <td>1993.000000</td>\n",
       "      <td>1.000000</td>\n",
       "    </tr>\n",
       "  </tbody>\n",
       "</table>\n",
       "</div>\n",
       "      <button class=\"colab-df-convert\" onclick=\"convertToInteractive('df-ce6f14f7-7c5f-4f46-808a-1cf0a23f7303')\"\n",
       "              title=\"Convert this dataframe to an interactive table.\"\n",
       "              style=\"display:none;\">\n",
       "        \n",
       "  <svg xmlns=\"http://www.w3.org/2000/svg\" height=\"24px\"viewBox=\"0 0 24 24\"\n",
       "       width=\"24px\">\n",
       "    <path d=\"M0 0h24v24H0V0z\" fill=\"none\"/>\n",
       "    <path d=\"M18.56 5.44l.94 2.06.94-2.06 2.06-.94-2.06-.94-.94-2.06-.94 2.06-2.06.94zm-11 1L8.5 8.5l.94-2.06 2.06-.94-2.06-.94L8.5 2.5l-.94 2.06-2.06.94zm10 10l.94 2.06.94-2.06 2.06-.94-2.06-.94-.94-2.06-.94 2.06-2.06.94z\"/><path d=\"M17.41 7.96l-1.37-1.37c-.4-.4-.92-.59-1.43-.59-.52 0-1.04.2-1.43.59L10.3 9.45l-7.72 7.72c-.78.78-.78 2.05 0 2.83L4 21.41c.39.39.9.59 1.41.59.51 0 1.02-.2 1.41-.59l7.78-7.78 2.81-2.81c.8-.78.8-2.07 0-2.86zM5.41 20L4 18.59l7.72-7.72 1.47 1.35L5.41 20z\"/>\n",
       "  </svg>\n",
       "      </button>\n",
       "      \n",
       "  <style>\n",
       "    .colab-df-container {\n",
       "      display:flex;\n",
       "      flex-wrap:wrap;\n",
       "      gap: 12px;\n",
       "    }\n",
       "\n",
       "    .colab-df-convert {\n",
       "      background-color: #E8F0FE;\n",
       "      border: none;\n",
       "      border-radius: 50%;\n",
       "      cursor: pointer;\n",
       "      display: none;\n",
       "      fill: #1967D2;\n",
       "      height: 32px;\n",
       "      padding: 0 0 0 0;\n",
       "      width: 32px;\n",
       "    }\n",
       "\n",
       "    .colab-df-convert:hover {\n",
       "      background-color: #E2EBFA;\n",
       "      box-shadow: 0px 1px 2px rgba(60, 64, 67, 0.3), 0px 1px 3px 1px rgba(60, 64, 67, 0.15);\n",
       "      fill: #174EA6;\n",
       "    }\n",
       "\n",
       "    [theme=dark] .colab-df-convert {\n",
       "      background-color: #3B4455;\n",
       "      fill: #D2E3FC;\n",
       "    }\n",
       "\n",
       "    [theme=dark] .colab-df-convert:hover {\n",
       "      background-color: #434B5C;\n",
       "      box-shadow: 0px 1px 3px 1px rgba(0, 0, 0, 0.15);\n",
       "      filter: drop-shadow(0px 1px 2px rgba(0, 0, 0, 0.3));\n",
       "      fill: #FFFFFF;\n",
       "    }\n",
       "  </style>\n",
       "\n",
       "      <script>\n",
       "        const buttonEl =\n",
       "          document.querySelector('#df-ce6f14f7-7c5f-4f46-808a-1cf0a23f7303 button.colab-df-convert');\n",
       "        buttonEl.style.display =\n",
       "          google.colab.kernel.accessAllowed ? 'block' : 'none';\n",
       "\n",
       "        async function convertToInteractive(key) {\n",
       "          const element = document.querySelector('#df-ce6f14f7-7c5f-4f46-808a-1cf0a23f7303');\n",
       "          const dataTable =\n",
       "            await google.colab.kernel.invokeFunction('convertToInteractive',\n",
       "                                                     [key], {});\n",
       "          if (!dataTable) return;\n",
       "\n",
       "          const docLinkHtml = 'Like what you see? Visit the ' +\n",
       "            '<a target=\"_blank\" href=https://colab.research.google.com/notebooks/data_table.ipynb>data table notebook</a>'\n",
       "            + ' to learn more about interactive tables.';\n",
       "          element.innerHTML = '';\n",
       "          dataTable['output_type'] = 'display_data';\n",
       "          await google.colab.output.renderOutput(dataTable, element);\n",
       "          const docLink = document.createElement('div');\n",
       "          docLink.innerHTML = docLinkHtml;\n",
       "          element.appendChild(docLink);\n",
       "        }\n",
       "      </script>\n",
       "    </div>\n",
       "  </div>\n",
       "  "
      ],
      "text/plain": [
       "         PatientID       Height       Weight  High_Cholesterol  \\\n",
       "count  1025.000000  1025.000000  1025.000000        1025.00000   \n",
       "mean   1512.000000   167.721951    67.821463         250.00000   \n",
       "std     296.036315     7.982877    12.251687          51.59251   \n",
       "min    1000.000000   151.000000    40.000000         130.00000   \n",
       "25%    1256.000000   162.000000    58.000000         215.00000   \n",
       "50%    1512.000000   167.000000    68.000000         244.00000   \n",
       "75%    1768.000000   173.000000    77.000000         279.00000   \n",
       "max    2024.000000   180.000000    97.000000         568.00000   \n",
       "\n",
       "       Blood_Pressure  Mental_Health  Physical_Health   Birth_Year     Disease  \n",
       "count     1025.000000    1025.000000      1025.000000  1025.000000  800.000000  \n",
       "mean       131.611707      17.389268         4.738537  1966.395122    0.513750  \n",
       "std         17.516718       5.281313         5.596449    14.335373    0.500124  \n",
       "min         94.000000       0.000000         0.000000  1855.000000    0.000000  \n",
       "25%        120.000000      13.000000         0.000000  1961.000000    0.000000  \n",
       "50%        130.000000      18.000000         3.000000  1966.000000    1.000000  \n",
       "75%        140.000000      21.000000         8.000000  1974.000000    1.000000  \n",
       "max        200.000000      29.000000        30.000000  1993.000000    1.000000  "
      ]
     },
     "execution_count": 7,
     "metadata": {},
     "output_type": "execute_result"
    }
   ],
   "source": [
    "data.describe()"
   ]
  },
  {
   "cell_type": "code",
   "execution_count": 8,
   "metadata": {
    "id": "sP89gcDy8KfC"
   },
   "outputs": [],
   "source": [
    "## Number of unique values\n",
    "# uvals = []\n",
    "# for col in train_df.columns:\n",
    "#   uvals.append(train_df[col].nunique())\n",
    "# stats_df = pd.DataFrame(data = {'Column' : train_df.columns, 'Unique Values' : uvals})\n",
    "# stats_df = pd.concat([uv_df.set_index('Column'), train_df.isna().sum()], axis = 1)\n",
    "# stats_df.columns = ['Unique Values', 'NaN values']\n",
    "# stats_df"
   ]
  },
  {
   "cell_type": "code",
   "execution_count": 9,
   "metadata": {
    "colab": {
     "base_uri": "https://localhost:8080/"
    },
    "id": "jHKWDGT-91BI",
    "outputId": "a21e7157-d4c3-46fe-ced9-3feefc267ea8"
   },
   "outputs": [
    {
     "data": {
      "text/plain": [
       "Index(['PatientID', 'Height', 'Weight', 'High_Cholesterol', 'Blood_Pressure',\n",
       "       'Mental_Health', 'Physical_Health', 'Birth_Year', 'Disease'],\n",
       "      dtype='object')"
      ]
     },
     "execution_count": 9,
     "metadata": {},
     "output_type": "execute_result"
    }
   ],
   "source": [
    "numeric_cols = data.dtypes[data.dtypes != 'object'].index\n",
    "numeric_cols"
   ]
  },
  {
   "cell_type": "code",
   "execution_count": 10,
   "metadata": {
    "colab": {
     "base_uri": "https://localhost:8080/",
     "height": 740
    },
    "id": "AKjMua68_LjA",
    "outputId": "3228a8f5-2830-40d8-b154-a4406aaff3df"
   },
   "outputs": [
    {
     "data": {
      "image/png": "[encoded data removed]",
      "text/plain": [
       "<Figure size 1440x792 with 10 Axes>"
      ]
     },
     "metadata": {},
     "output_type": "display_data"
    }
   ],
   "source": [
    "sns.set()\n",
    "fig, axes = plt.subplots(2, ceil(len(numeric_cols) / 2), figsize=(20, 11))\n",
    "for ax, feat in zip(axes.flatten(), numeric_cols):\n",
    "    ax.hist(data[feat], bins = 15)\n",
    "    ax.set_title(feat, y=-0.13)\n",
    "    \n",
    "title = \"Numeric Variables' Histograms\"\n",
    "plt.suptitle(title)\n",
    "\n",
    "plt.show()"
   ]
  },
  {
   "cell_type": "code",
   "execution_count": 11,
   "metadata": {
    "colab": {
     "base_uri": "https://localhost:8080/",
     "height": 745
    },
    "id": "oBvjefWIAZAP",
    "outputId": "eb267f56-4d81-4a2b-f4f4-a5e4127242d3"
   },
   "outputs": [
    {
     "data": {
      "image/png": "[encoded data removed]",
      "text/plain": [
       "<Figure size 1440x792 with 10 Axes>"
      ]
     },
     "metadata": {},
     "output_type": "display_data"
    }
   ],
   "source": [
    "sns.set()\n",
    "fig, axes = plt.subplots(2, ceil(len(numeric_cols) / 2), figsize=(20, 11))\n",
    "for ax, feat in zip(axes.flatten(), numeric_cols): \n",
    "    sns.boxplot(x=data[feat], ax=ax)\n",
    "    \n",
    "title = \"Numeric Variables' Box Plots\"\n",
    "plt.suptitle(title)\n",
    "plt.show()"
   ]
  },
  {
   "cell_type": "markdown",
   "metadata": {
    "id": "Dqf5pfndBbJ7"
   },
   "source": [
    "# Feature Creation\n",
    "\n",
    "1) Age <br>\n",
    "2) Sex <br>\n",
    "3) Ordinal variables <br>\n",
    "4) Binary variables <br>\n",
    "5) One Hot Encoding <br>\n",
    "6) Feture selection"
   ]
  },
  {
   "cell_type": "code",
   "execution_count": 12,
   "metadata": {
    "colab": {
     "base_uri": "https://localhost:8080/",
     "height": 334
    },
    "id": "wnrmgptkE3Mv",
    "outputId": "5d25ac1f-3e61-46f0-9f6c-c05a9beb0233"
   },
   "outputs": [
    {
     "data": {
      "text/html": [
       "\n",
       "  <div id=\"df-2887c370-8af2-4dfa-8d46-a0d3066f89f6\">\n",
       "    <div class=\"colab-df-container\">\n",
       "      <div>\n",
       "<style scoped>\n",
       "    .dataframe tbody tr th:only-of-type {\n",
       "        vertical-align: middle;\n",
       "    }\n",
       "\n",
       "    .dataframe tbody tr th {\n",
       "        vertical-align: top;\n",
       "    }\n",
       "\n",
       "    .dataframe thead th {\n",
       "        text-align: right;\n",
       "    }\n",
       "</style>\n",
       "<table border=\"1\" class=\"dataframe\">\n",
       "  <thead>\n",
       "    <tr style=\"text-align: right;\">\n",
       "      <th></th>\n",
       "      <th>Height</th>\n",
       "      <th>Weight</th>\n",
       "      <th>High_Cholesterol</th>\n",
       "      <th>Blood_Pressure</th>\n",
       "      <th>Mental_Health</th>\n",
       "      <th>Physical_Health</th>\n",
       "      <th>Smoking_Habit</th>\n",
       "      <th>Exercise</th>\n",
       "      <th>Disease</th>\n",
       "      <th>sex</th>\n",
       "      <th>...</th>\n",
       "      <th>_edu__university incomplete (1 to 2 years)</th>\n",
       "      <th>_geo__east midlands</th>\n",
       "      <th>_geo__east of england</th>\n",
       "      <th>_geo__london</th>\n",
       "      <th>_geo__north east</th>\n",
       "      <th>_geo__north west</th>\n",
       "      <th>_geo__south east</th>\n",
       "      <th>_geo__south west</th>\n",
       "      <th>_geo__west midlands</th>\n",
       "      <th>_geo__yorkshire and the humber</th>\n",
       "    </tr>\n",
       "  </thead>\n",
       "  <tbody>\n",
       "    <tr>\n",
       "      <th>0</th>\n",
       "      <td>155</td>\n",
       "      <td>67</td>\n",
       "      <td>358</td>\n",
       "      <td>120</td>\n",
       "      <td>21</td>\n",
       "      <td>2</td>\n",
       "      <td>0</td>\n",
       "      <td>0</td>\n",
       "      <td>1.0</td>\n",
       "      <td>1</td>\n",
       "      <td>...</td>\n",
       "      <td>0</td>\n",
       "      <td>0</td>\n",
       "      <td>0</td>\n",
       "      <td>1</td>\n",
       "      <td>0</td>\n",
       "      <td>0</td>\n",
       "      <td>0</td>\n",
       "      <td>0</td>\n",
       "      <td>0</td>\n",
       "      <td>0</td>\n",
       "    </tr>\n",
       "    <tr>\n",
       "      <th>1</th>\n",
       "      <td>173</td>\n",
       "      <td>88</td>\n",
       "      <td>230</td>\n",
       "      <td>142</td>\n",
       "      <td>9</td>\n",
       "      <td>0</td>\n",
       "      <td>0</td>\n",
       "      <td>0</td>\n",
       "      <td>1.0</td>\n",
       "      <td>0</td>\n",
       "      <td>...</td>\n",
       "      <td>0</td>\n",
       "      <td>0</td>\n",
       "      <td>0</td>\n",
       "      <td>0</td>\n",
       "      <td>0</td>\n",
       "      <td>0</td>\n",
       "      <td>0</td>\n",
       "      <td>1</td>\n",
       "      <td>0</td>\n",
       "      <td>0</td>\n",
       "    </tr>\n",
       "    <tr>\n",
       "      <th>2</th>\n",
       "      <td>162</td>\n",
       "      <td>68</td>\n",
       "      <td>226</td>\n",
       "      <td>122</td>\n",
       "      <td>26</td>\n",
       "      <td>0</td>\n",
       "      <td>0</td>\n",
       "      <td>1</td>\n",
       "      <td>1.0</td>\n",
       "      <td>0</td>\n",
       "      <td>...</td>\n",
       "      <td>0</td>\n",
       "      <td>0</td>\n",
       "      <td>0</td>\n",
       "      <td>0</td>\n",
       "      <td>0</td>\n",
       "      <td>0</td>\n",
       "      <td>0</td>\n",
       "      <td>0</td>\n",
       "      <td>0</td>\n",
       "      <td>1</td>\n",
       "    </tr>\n",
       "    <tr>\n",
       "      <th>3</th>\n",
       "      <td>180</td>\n",
       "      <td>66</td>\n",
       "      <td>313</td>\n",
       "      <td>125</td>\n",
       "      <td>13</td>\n",
       "      <td>8</td>\n",
       "      <td>0</td>\n",
       "      <td>0</td>\n",
       "      <td>0.0</td>\n",
       "      <td>0</td>\n",
       "      <td>...</td>\n",
       "      <td>0</td>\n",
       "      <td>0</td>\n",
       "      <td>0</td>\n",
       "      <td>1</td>\n",
       "      <td>0</td>\n",
       "      <td>0</td>\n",
       "      <td>0</td>\n",
       "      <td>0</td>\n",
       "      <td>0</td>\n",
       "      <td>0</td>\n",
       "    </tr>\n",
       "    <tr>\n",
       "      <th>4</th>\n",
       "      <td>180</td>\n",
       "      <td>58</td>\n",
       "      <td>277</td>\n",
       "      <td>125</td>\n",
       "      <td>18</td>\n",
       "      <td>2</td>\n",
       "      <td>0</td>\n",
       "      <td>1</td>\n",
       "      <td>1.0</td>\n",
       "      <td>0</td>\n",
       "      <td>...</td>\n",
       "      <td>1</td>\n",
       "      <td>0</td>\n",
       "      <td>0</td>\n",
       "      <td>0</td>\n",
       "      <td>0</td>\n",
       "      <td>0</td>\n",
       "      <td>1</td>\n",
       "      <td>0</td>\n",
       "      <td>0</td>\n",
       "      <td>0</td>\n",
       "    </tr>\n",
       "  </tbody>\n",
       "</table>\n",
       "<p>5 rows × 40 columns</p>\n",
       "</div>\n",
       "      <button class=\"colab-df-convert\" onclick=\"convertToInteractive('df-2887c370-8af2-4dfa-8d46-a0d3066f89f6')\"\n",
       "              title=\"Convert this dataframe to an interactive table.\"\n",
       "              style=\"display:none;\">\n",
       "        \n",
       "  <svg xmlns=\"http://www.w3.org/2000/svg\" height=\"24px\"viewBox=\"0 0 24 24\"\n",
       "       width=\"24px\">\n",
       "    <path d=\"M0 0h24v24H0V0z\" fill=\"none\"/>\n",
       "    <path d=\"M18.56 5.44l.94 2.06.94-2.06 2.06-.94-2.06-.94-.94-2.06-.94 2.06-2.06.94zm-11 1L8.5 8.5l.94-2.06 2.06-.94-2.06-.94L8.5 2.5l-.94 2.06-2.06.94zm10 10l.94 2.06.94-2.06 2.06-.94-2.06-.94-.94-2.06-.94 2.06-2.06.94z\"/><path d=\"M17.41 7.96l-1.37-1.37c-.4-.4-.92-.59-1.43-.59-.52 0-1.04.2-1.43.59L10.3 9.45l-7.72 7.72c-.78.78-.78 2.05 0 2.83L4 21.41c.39.39.9.59 1.41.59.51 0 1.02-.2 1.41-.59l7.78-7.78 2.81-2.81c.8-.78.8-2.07 0-2.86zM5.41 20L4 18.59l7.72-7.72 1.47 1.35L5.41 20z\"/>\n",
       "  </svg>\n",
       "      </button>\n",
       "      \n",
       "  <style>\n",
       "    .colab-df-container {\n",
       "      display:flex;\n",
       "      flex-wrap:wrap;\n",
       "      gap: 12px;\n",
       "    }\n",
       "\n",
       "    .colab-df-convert {\n",
       "      background-color: #E8F0FE;\n",
       "      border: none;\n",
       "      border-radius: 50%;\n",
       "      cursor: pointer;\n",
       "      display: none;\n",
       "      fill: #1967D2;\n",
       "      height: 32px;\n",
       "      padding: 0 0 0 0;\n",
       "      width: 32px;\n",
       "    }\n",
       "\n",
       "    .colab-df-convert:hover {\n",
       "      background-color: #E2EBFA;\n",
       "      box-shadow: 0px 1px 2px rgba(60, 64, 67, 0.3), 0px 1px 3px 1px rgba(60, 64, 67, 0.15);\n",
       "      fill: #174EA6;\n",
       "    }\n",
       "\n",
       "    [theme=dark] .colab-df-convert {\n",
       "      background-color: #3B4455;\n",
       "      fill: #D2E3FC;\n",
       "    }\n",
       "\n",
       "    [theme=dark] .colab-df-convert:hover {\n",
       "      background-color: #434B5C;\n",
       "      box-shadow: 0px 1px 3px 1px rgba(0, 0, 0, 0.15);\n",
       "      filter: drop-shadow(0px 1px 2px rgba(0, 0, 0, 0.3));\n",
       "      fill: #FFFFFF;\n",
       "    }\n",
       "  </style>\n",
       "\n",
       "      <script>\n",
       "        const buttonEl =\n",
       "          document.querySelector('#df-2887c370-8af2-4dfa-8d46-a0d3066f89f6 button.colab-df-convert');\n",
       "        buttonEl.style.display =\n",
       "          google.colab.kernel.accessAllowed ? 'block' : 'none';\n",
       "\n",
       "        async function convertToInteractive(key) {\n",
       "          const element = document.querySelector('#df-2887c370-8af2-4dfa-8d46-a0d3066f89f6');\n",
       "          const dataTable =\n",
       "            await google.colab.kernel.invokeFunction('convertToInteractive',\n",
       "                                                     [key], {});\n",
       "          if (!dataTable) return;\n",
       "\n",
       "          const docLinkHtml = 'Like what you see? Visit the ' +\n",
       "            '<a target=\"_blank\" href=https://colab.research.google.com/notebooks/data_table.ipynb>data table notebook</a>'\n",
       "            + ' to learn more about interactive tables.';\n",
       "          element.innerHTML = '';\n",
       "          dataTable['output_type'] = 'display_data';\n",
       "          await google.colab.output.renderOutput(dataTable, element);\n",
       "          const docLink = document.createElement('div');\n",
       "          docLink.innerHTML = docLinkHtml;\n",
       "          element.appendChild(docLink);\n",
       "        }\n",
       "      </script>\n",
       "    </div>\n",
       "  </div>\n",
       "  "
      ],
      "text/plain": [
       "   Height  Weight  High_Cholesterol  Blood_Pressure  Mental_Health  \\\n",
       "0     155      67               358             120             21   \n",
       "1     173      88               230             142              9   \n",
       "2     162      68               226             122             26   \n",
       "3     180      66               313             125             13   \n",
       "4     180      58               277             125             18   \n",
       "\n",
       "   Physical_Health  Smoking_Habit  Exercise  Disease  sex  ...  \\\n",
       "0                2              0         0      1.0    1  ...   \n",
       "1                0              0         0      1.0    0  ...   \n",
       "2                0              0         1      1.0    0  ...   \n",
       "3                8              0         0      0.0    0  ...   \n",
       "4                2              0         1      1.0    0  ...   \n",
       "\n",
       "   _edu__university incomplete (1 to 2 years)  _geo__east midlands  \\\n",
       "0                                           0                    0   \n",
       "1                                           0                    0   \n",
       "2                                           0                    0   \n",
       "3                                           0                    0   \n",
       "4                                           1                    0   \n",
       "\n",
       "   _geo__east of england  _geo__london  _geo__north east  _geo__north west  \\\n",
       "0                      0             1                 0                 0   \n",
       "1                      0             0                 0                 0   \n",
       "2                      0             0                 0                 0   \n",
       "3                      0             1                 0                 0   \n",
       "4                      0             0                 0                 0   \n",
       "\n",
       "   _geo__south east  _geo__south west  _geo__west midlands  \\\n",
       "0                 0                 0                    0   \n",
       "1                 0                 1                    0   \n",
       "2                 0                 0                    0   \n",
       "3                 0                 0                    0   \n",
       "4                 1                 0                    0   \n",
       "\n",
       "   _geo__yorkshire and the humber  \n",
       "0                               0  \n",
       "1                               0  \n",
       "2                               1  \n",
       "3                               0  \n",
       "4                               0  \n",
       "\n",
       "[5 rows x 40 columns]"
      ]
     },
     "execution_count": 12,
     "metadata": {},
     "output_type": "execute_result"
    }
   ],
   "source": [
    "def feature_creation(df):\n",
    "  ordinal_dicts = {\n",
    "\n",
    "  'Drinking_Habit' : {'I do not consume any type of alcohol' : [0],\n",
    "                      'I consider myself a social drinker' : [1],\n",
    "                      'I usually consume alcohol every day' : [2]},\n",
    "\n",
    "  'Water_Habit' : {'Between one liter and two liters' : [0],\n",
    "                  'More than half a liter but less than one liter' : [1],\n",
    "                  'Less than half a liter' : [2]},\n",
    "                  \n",
    "  'Fruit_Habit' : {'More than six pieces of fruit' : [0],\n",
    "                  '5 to 6 pieces of fruit in average' : [1],\n",
    "                  '3 to 4 pieces of fruit in average' : [2],\n",
    "                  '1 to 2 pieces of fruit in average' : [3],\n",
    "                  'Less than 1. I do not consume fruits every day.' : [4]},\n",
    "                  \n",
    "  'Diabetes' : {'Neither I nor my immediate family have diabetes.' : [0],\n",
    "                \"I don't have diabetes, but I have direct family members who have diabetes.\" : [1],\n",
    "                'I have/had pregnancy diabetes or borderline diabetes' : [2],\n",
    "                'I do have diabetes' : [3]},\n",
    "\n",
    "  'Checkup' :  { 'Less than three months': [0],\n",
    "                'Less than 3 years but more than 1 year' : [1],\n",
    "                'More than 3 years' : [2],\n",
    "                'Not sure': [3]}\n",
    "                }\n",
    "  # 1\n",
    "  df['sex'] = df['Name'].str.contains('Mrs. ').astype(int)\n",
    "  # 2\n",
    "  df['age'] = date.today().year - df['Birth_Year']\n",
    "  # 3\n",
    "  drop_list = ['PatientID', 'Name', 'Birth_Year', 'Region', 'Education']\n",
    "  for key in ordinal_dicts.keys():                  \n",
    "    drinking_habit_map = pd.DataFrame(data = ordinal_dicts[key]).T.reset_index()\n",
    "    drinking_habit_map.columns = [key, f'{key}_ord']\n",
    "    df = df.merge(drinking_habit_map, how = 'left', on = [key])\n",
    "    drop_list.append(key)\n",
    "  # 4\n",
    "  df.replace({\"Exercise\": {'Yes' : 0, 'No' : 1}}, inplace = True)\n",
    "  df.replace({\"Smoking_Habit\": {'Yes' : 1, 'No' : 0}}, inplace = True)\n",
    "  # 5\n",
    "  one_hot = pd.get_dummies(df['Region'].str.lower(), prefix = '_geo_')\n",
    "  one_hot_2 = pd.get_dummies(data['Education'].str.lower(), prefix = '_edu_')\n",
    "  df = pd.concat([df, one_hot, one_hot_2], axis = 1)\n",
    "  df = pd.concat([df, one_hot], axis = 1)\n",
    "  df.drop(columns = drop_list, inplace = True)\n",
    "\n",
    "  return df\n",
    "\n",
    "data = feature_creation(data)\n",
    "data.head()"
   ]
  },
  {
   "cell_type": "markdown",
   "metadata": {
    "id": "iBsyfA5LjfqL"
   },
   "source": [
    "### 6) Feature selection (Random Forest)"
   ]
  },
  {
   "cell_type": "code",
   "execution_count": 13,
   "metadata": {
    "colab": {
     "base_uri": "https://localhost:8080/",
     "height": 611
    },
    "id": "s99HHLrgjeZH",
    "outputId": "d5216c84-2373-4a98-bc27-990dfee7dc9f"
   },
   "outputs": [
    {
     "data": {
      "image/png": "[encoded data removed]",
      "text/plain": [
       "<Figure size 720x720 with 1 Axes>"
      ]
     },
     "metadata": {},
     "output_type": "display_data"
    }
   ],
   "source": [
    "def rf_fi(data):\n",
    "  train_part = data[data['Disease'].notnull()]\n",
    "  X = train_part.drop(columns = ['Disease'])\n",
    "  y = train_part[['Disease']]\n",
    "\n",
    "  # Creation of default Random Forest Classifier to get feature importance\n",
    "  clf = RandomForestClassifier() \n",
    "  clf.fit(X, y)\n",
    "\n",
    "  sorted_idx = clf.feature_importances_.argsort()\n",
    "  plt.barh(X.columns[sorted_idx], clf.feature_importances_[sorted_idx])\n",
    "  plt.xlabel(\"Random Forest Feature Importance\")\n",
    "\n",
    "plt.rcParams['figure.figsize'] = [10, 10]\n",
    "rf_fi(data)"
   ]
  },
  {
   "cell_type": "markdown",
   "metadata": {
    "id": "U6wIeHnolHyA"
   },
   "source": [
    "> ⚠ We see that variables describing education and region bring too litle impact into the classification model. So it was decided not to use them."
   ]
  },
  {
   "cell_type": "code",
   "execution_count": 14,
   "metadata": {
    "colab": {
     "base_uri": "https://localhost:8080/",
     "height": 611
    },
    "id": "oSRUQX_Vje91",
    "outputId": "cb232424-e06a-4365-d156-a67d54dd0855"
   },
   "outputs": [
    {
     "data": {
      "image/png": "[encoded data removed]",
      "text/plain": [
       "<Figure size 720x720 with 1 Axes>"
      ]
     },
     "metadata": {},
     "output_type": "display_data"
    }
   ],
   "source": [
    "drop_list = []\n",
    "for col in data.columns:\n",
    "  if ('_geo_' in col) or ('_edu_'in col):\n",
    "    drop_list.append(col)\n",
    "\n",
    "data.drop(columns = drop_list, inplace = True)\n",
    "rf_fi(data)"
   ]
  },
  {
   "cell_type": "markdown",
   "metadata": {
    "id": "p9_9BEHB9oD8"
   },
   "source": [
    "# Preprocessing with statistical information\n",
    "\n",
    "1) Outliers removal<br>\n",
    "2) Correlations check<br>\n"
   ]
  },
  {
   "cell_type": "markdown",
   "metadata": {
    "id": "nYwICE3FpxPS"
   },
   "source": [
    "### 1) Outliers detection"
   ]
  },
  {
   "cell_type": "code",
   "execution_count": 15,
   "metadata": {
    "colab": {
     "base_uri": "https://localhost:8080/",
     "height": 740
    },
    "id": "xkPjdjD514jT",
    "outputId": "f5a81f59-cc93-4162-b268-b052ff8aa140"
   },
   "outputs": [
    {
     "data": {
      "image/png": "[encoded data removed]",
      "text/plain": [
       "<Figure size 1440x792 with 10 Axes>"
      ]
     },
     "metadata": {},
     "output_type": "display_data"
    }
   ],
   "source": [
    "numeric_cols = data.dtypes[data.dtypes != 'object'].index\n",
    "\n",
    "sns.set()\n",
    "fig, axes = plt.subplots(2, ceil(len(numeric_cols[:-6]) / 2), figsize=(20, 11))\n",
    "for ax, feat in zip(axes.flatten(), numeric_cols[:-6]):\n",
    "    ax.hist(data[feat], bins = 15)\n",
    "    ax.set_title(feat, y=-0.13)\n",
    "    \n",
    "title = \"Numeric Variables' Histograms\"\n",
    "plt.suptitle(title)\n",
    "\n",
    "plt.show()"
   ]
  },
  {
   "cell_type": "code",
   "execution_count": 16,
   "metadata": {
    "colab": {
     "base_uri": "https://localhost:8080/",
     "height": 364
    },
    "id": "gnDW395B30by",
    "outputId": "8af70ac9-89fd-4443-f9f2-2bc089a70bf3"
   },
   "outputs": [
    {
     "data": {
      "text/html": [
       "\n",
       "  <div id=\"df-28b8abc4-922a-4878-9eef-f18c60c47291\">\n",
       "    <div class=\"colab-df-container\">\n",
       "      <div>\n",
       "<style scoped>\n",
       "    .dataframe tbody tr th:only-of-type {\n",
       "        vertical-align: middle;\n",
       "    }\n",
       "\n",
       "    .dataframe tbody tr th {\n",
       "        vertical-align: top;\n",
       "    }\n",
       "\n",
       "    .dataframe thead th {\n",
       "        text-align: right;\n",
       "    }\n",
       "</style>\n",
       "<table border=\"1\" class=\"dataframe\">\n",
       "  <thead>\n",
       "    <tr style=\"text-align: right;\">\n",
       "      <th></th>\n",
       "      <th>Height</th>\n",
       "      <th>Weight</th>\n",
       "      <th>High_Cholesterol</th>\n",
       "      <th>Blood_Pressure</th>\n",
       "      <th>Mental_Health</th>\n",
       "      <th>Physical_Health</th>\n",
       "      <th>Smoking_Habit</th>\n",
       "      <th>Exercise</th>\n",
       "      <th>Disease</th>\n",
       "      <th>sex</th>\n",
       "      <th>age</th>\n",
       "      <th>Drinking_Habit_ord</th>\n",
       "      <th>Water_Habit_ord</th>\n",
       "      <th>Fruit_Habit_ord</th>\n",
       "      <th>Diabetes_ord</th>\n",
       "      <th>Checkup_ord</th>\n",
       "    </tr>\n",
       "  </thead>\n",
       "  <tbody>\n",
       "    <tr>\n",
       "      <th>count</th>\n",
       "      <td>1025.000000</td>\n",
       "      <td>1025.000000</td>\n",
       "      <td>1025.00000</td>\n",
       "      <td>1025.000000</td>\n",
       "      <td>1025.000000</td>\n",
       "      <td>1025.000000</td>\n",
       "      <td>1025.000000</td>\n",
       "      <td>1025.000000</td>\n",
       "      <td>800.000000</td>\n",
       "      <td>1025.000000</td>\n",
       "      <td>1025.000000</td>\n",
       "      <td>1025.000000</td>\n",
       "      <td>1025.000000</td>\n",
       "      <td>1025.000000</td>\n",
       "      <td>1025.000000</td>\n",
       "      <td>1025.000000</td>\n",
       "    </tr>\n",
       "    <tr>\n",
       "      <th>mean</th>\n",
       "      <td>167.721951</td>\n",
       "      <td>67.821463</td>\n",
       "      <td>250.00000</td>\n",
       "      <td>131.611707</td>\n",
       "      <td>17.389268</td>\n",
       "      <td>4.738537</td>\n",
       "      <td>0.149268</td>\n",
       "      <td>0.663415</td>\n",
       "      <td>0.513750</td>\n",
       "      <td>0.304390</td>\n",
       "      <td>55.604878</td>\n",
       "      <td>1.485854</td>\n",
       "      <td>0.640976</td>\n",
       "      <td>3.245854</td>\n",
       "      <td>1.118049</td>\n",
       "      <td>2.323902</td>\n",
       "    </tr>\n",
       "    <tr>\n",
       "      <th>std</th>\n",
       "      <td>7.982877</td>\n",
       "      <td>12.251687</td>\n",
       "      <td>51.59251</td>\n",
       "      <td>17.516718</td>\n",
       "      <td>5.281313</td>\n",
       "      <td>5.596449</td>\n",
       "      <td>0.356527</td>\n",
       "      <td>0.472772</td>\n",
       "      <td>0.500124</td>\n",
       "      <td>0.460373</td>\n",
       "      <td>14.335373</td>\n",
       "      <td>0.528527</td>\n",
       "      <td>0.664295</td>\n",
       "      <td>1.030798</td>\n",
       "      <td>1.183676</td>\n",
       "      <td>0.620660</td>\n",
       "    </tr>\n",
       "    <tr>\n",
       "      <th>min</th>\n",
       "      <td>151.000000</td>\n",
       "      <td>40.000000</td>\n",
       "      <td>130.00000</td>\n",
       "      <td>94.000000</td>\n",
       "      <td>0.000000</td>\n",
       "      <td>0.000000</td>\n",
       "      <td>0.000000</td>\n",
       "      <td>0.000000</td>\n",
       "      <td>0.000000</td>\n",
       "      <td>0.000000</td>\n",
       "      <td>29.000000</td>\n",
       "      <td>0.000000</td>\n",
       "      <td>0.000000</td>\n",
       "      <td>0.000000</td>\n",
       "      <td>0.000000</td>\n",
       "      <td>0.000000</td>\n",
       "    </tr>\n",
       "    <tr>\n",
       "      <th>25%</th>\n",
       "      <td>162.000000</td>\n",
       "      <td>58.000000</td>\n",
       "      <td>215.00000</td>\n",
       "      <td>120.000000</td>\n",
       "      <td>13.000000</td>\n",
       "      <td>0.000000</td>\n",
       "      <td>0.000000</td>\n",
       "      <td>0.000000</td>\n",
       "      <td>0.000000</td>\n",
       "      <td>0.000000</td>\n",
       "      <td>48.000000</td>\n",
       "      <td>1.000000</td>\n",
       "      <td>0.000000</td>\n",
       "      <td>3.000000</td>\n",
       "      <td>0.000000</td>\n",
       "      <td>2.000000</td>\n",
       "    </tr>\n",
       "    <tr>\n",
       "      <th>50%</th>\n",
       "      <td>167.000000</td>\n",
       "      <td>68.000000</td>\n",
       "      <td>244.00000</td>\n",
       "      <td>130.000000</td>\n",
       "      <td>18.000000</td>\n",
       "      <td>3.000000</td>\n",
       "      <td>0.000000</td>\n",
       "      <td>1.000000</td>\n",
       "      <td>1.000000</td>\n",
       "      <td>0.000000</td>\n",
       "      <td>56.000000</td>\n",
       "      <td>2.000000</td>\n",
       "      <td>1.000000</td>\n",
       "      <td>4.000000</td>\n",
       "      <td>1.000000</td>\n",
       "      <td>2.000000</td>\n",
       "    </tr>\n",
       "    <tr>\n",
       "      <th>75%</th>\n",
       "      <td>173.000000</td>\n",
       "      <td>77.000000</td>\n",
       "      <td>279.00000</td>\n",
       "      <td>140.000000</td>\n",
       "      <td>21.000000</td>\n",
       "      <td>8.000000</td>\n",
       "      <td>0.000000</td>\n",
       "      <td>1.000000</td>\n",
       "      <td>1.000000</td>\n",
       "      <td>1.000000</td>\n",
       "      <td>61.000000</td>\n",
       "      <td>2.000000</td>\n",
       "      <td>1.000000</td>\n",
       "      <td>4.000000</td>\n",
       "      <td>2.000000</td>\n",
       "      <td>3.000000</td>\n",
       "    </tr>\n",
       "    <tr>\n",
       "      <th>max</th>\n",
       "      <td>180.000000</td>\n",
       "      <td>97.000000</td>\n",
       "      <td>568.00000</td>\n",
       "      <td>200.000000</td>\n",
       "      <td>29.000000</td>\n",
       "      <td>30.000000</td>\n",
       "      <td>1.000000</td>\n",
       "      <td>1.000000</td>\n",
       "      <td>1.000000</td>\n",
       "      <td>1.000000</td>\n",
       "      <td>167.000000</td>\n",
       "      <td>2.000000</td>\n",
       "      <td>2.000000</td>\n",
       "      <td>4.000000</td>\n",
       "      <td>3.000000</td>\n",
       "      <td>3.000000</td>\n",
       "    </tr>\n",
       "  </tbody>\n",
       "</table>\n",
       "</div>\n",
       "      <button class=\"colab-df-convert\" onclick=\"convertToInteractive('df-28b8abc4-922a-4878-9eef-f18c60c47291')\"\n",
       "              title=\"Convert this dataframe to an interactive table.\"\n",
       "              style=\"display:none;\">\n",
       "        \n",
       "  <svg xmlns=\"http://www.w3.org/2000/svg\" height=\"24px\"viewBox=\"0 0 24 24\"\n",
       "       width=\"24px\">\n",
       "    <path d=\"M0 0h24v24H0V0z\" fill=\"none\"/>\n",
       "    <path d=\"M18.56 5.44l.94 2.06.94-2.06 2.06-.94-2.06-.94-.94-2.06-.94 2.06-2.06.94zm-11 1L8.5 8.5l.94-2.06 2.06-.94-2.06-.94L8.5 2.5l-.94 2.06-2.06.94zm10 10l.94 2.06.94-2.06 2.06-.94-2.06-.94-.94-2.06-.94 2.06-2.06.94z\"/><path d=\"M17.41 7.96l-1.37-1.37c-.4-.4-.92-.59-1.43-.59-.52 0-1.04.2-1.43.59L10.3 9.45l-7.72 7.72c-.78.78-.78 2.05 0 2.83L4 21.41c.39.39.9.59 1.41.59.51 0 1.02-.2 1.41-.59l7.78-7.78 2.81-2.81c.8-.78.8-2.07 0-2.86zM5.41 20L4 18.59l7.72-7.72 1.47 1.35L5.41 20z\"/>\n",
       "  </svg>\n",
       "      </button>\n",
       "      \n",
       "  <style>\n",
       "    .colab-df-container {\n",
       "      display:flex;\n",
       "      flex-wrap:wrap;\n",
       "      gap: 12px;\n",
       "    }\n",
       "\n",
       "    .colab-df-convert {\n",
       "      background-color: #E8F0FE;\n",
       "      border: none;\n",
       "      border-radius: 50%;\n",
       "      cursor: pointer;\n",
       "      display: none;\n",
       "      fill: #1967D2;\n",
       "      height: 32px;\n",
       "      padding: 0 0 0 0;\n",
       "      width: 32px;\n",
       "    }\n",
       "\n",
       "    .colab-df-convert:hover {\n",
       "      background-color: #E2EBFA;\n",
       "      box-shadow: 0px 1px 2px rgba(60, 64, 67, 0.3), 0px 1px 3px 1px rgba(60, 64, 67, 0.15);\n",
       "      fill: #174EA6;\n",
       "    }\n",
       "\n",
       "    [theme=dark] .colab-df-convert {\n",
       "      background-color: #3B4455;\n",
       "      fill: #D2E3FC;\n",
       "    }\n",
       "\n",
       "    [theme=dark] .colab-df-convert:hover {\n",
       "      background-color: #434B5C;\n",
       "      box-shadow: 0px 1px 3px 1px rgba(0, 0, 0, 0.15);\n",
       "      filter: drop-shadow(0px 1px 2px rgba(0, 0, 0, 0.3));\n",
       "      fill: #FFFFFF;\n",
       "    }\n",
       "  </style>\n",
       "\n",
       "      <script>\n",
       "        const buttonEl =\n",
       "          document.querySelector('#df-28b8abc4-922a-4878-9eef-f18c60c47291 button.colab-df-convert');\n",
       "        buttonEl.style.display =\n",
       "          google.colab.kernel.accessAllowed ? 'block' : 'none';\n",
       "\n",
       "        async function convertToInteractive(key) {\n",
       "          const element = document.querySelector('#df-28b8abc4-922a-4878-9eef-f18c60c47291');\n",
       "          const dataTable =\n",
       "            await google.colab.kernel.invokeFunction('convertToInteractive',\n",
       "                                                     [key], {});\n",
       "          if (!dataTable) return;\n",
       "\n",
       "          const docLinkHtml = 'Like what you see? Visit the ' +\n",
       "            '<a target=\"_blank\" href=https://colab.research.google.com/notebooks/data_table.ipynb>data table notebook</a>'\n",
       "            + ' to learn more about interactive tables.';\n",
       "          element.innerHTML = '';\n",
       "          dataTable['output_type'] = 'display_data';\n",
       "          await google.colab.output.renderOutput(dataTable, element);\n",
       "          const docLink = document.createElement('div');\n",
       "          docLink.innerHTML = docLinkHtml;\n",
       "          element.appendChild(docLink);\n",
       "        }\n",
       "      </script>\n",
       "    </div>\n",
       "  </div>\n",
       "  "
      ],
      "text/plain": [
       "            Height       Weight  High_Cholesterol  Blood_Pressure  \\\n",
       "count  1025.000000  1025.000000        1025.00000     1025.000000   \n",
       "mean    167.721951    67.821463         250.00000      131.611707   \n",
       "std       7.982877    12.251687          51.59251       17.516718   \n",
       "min     151.000000    40.000000         130.00000       94.000000   \n",
       "25%     162.000000    58.000000         215.00000      120.000000   \n",
       "50%     167.000000    68.000000         244.00000      130.000000   \n",
       "75%     173.000000    77.000000         279.00000      140.000000   \n",
       "max     180.000000    97.000000         568.00000      200.000000   \n",
       "\n",
       "       Mental_Health  Physical_Health  Smoking_Habit     Exercise     Disease  \\\n",
       "count    1025.000000      1025.000000    1025.000000  1025.000000  800.000000   \n",
       "mean       17.389268         4.738537       0.149268     0.663415    0.513750   \n",
       "std         5.281313         5.596449       0.356527     0.472772    0.500124   \n",
       "min         0.000000         0.000000       0.000000     0.000000    0.000000   \n",
       "25%        13.000000         0.000000       0.000000     0.000000    0.000000   \n",
       "50%        18.000000         3.000000       0.000000     1.000000    1.000000   \n",
       "75%        21.000000         8.000000       0.000000     1.000000    1.000000   \n",
       "max        29.000000        30.000000       1.000000     1.000000    1.000000   \n",
       "\n",
       "               sex          age  Drinking_Habit_ord  Water_Habit_ord  \\\n",
       "count  1025.000000  1025.000000         1025.000000      1025.000000   \n",
       "mean      0.304390    55.604878            1.485854         0.640976   \n",
       "std       0.460373    14.335373            0.528527         0.664295   \n",
       "min       0.000000    29.000000            0.000000         0.000000   \n",
       "25%       0.000000    48.000000            1.000000         0.000000   \n",
       "50%       0.000000    56.000000            2.000000         1.000000   \n",
       "75%       1.000000    61.000000            2.000000         1.000000   \n",
       "max       1.000000   167.000000            2.000000         2.000000   \n",
       "\n",
       "       Fruit_Habit_ord  Diabetes_ord  Checkup_ord  \n",
       "count      1025.000000   1025.000000  1025.000000  \n",
       "mean          3.245854      1.118049     2.323902  \n",
       "std           1.030798      1.183676     0.620660  \n",
       "min           0.000000      0.000000     0.000000  \n",
       "25%           3.000000      0.000000     2.000000  \n",
       "50%           4.000000      1.000000     2.000000  \n",
       "75%           4.000000      2.000000     3.000000  \n",
       "max           4.000000      3.000000     3.000000  "
      ]
     },
     "execution_count": 16,
     "metadata": {},
     "output_type": "execute_result"
    }
   ],
   "source": [
    "data.describe()"
   ]
  },
  {
   "cell_type": "code",
   "execution_count": 17,
   "metadata": {
    "colab": {
     "base_uri": "https://localhost:8080/",
     "height": 270
    },
    "id": "l8BJW-nO0JBP",
    "outputId": "3f3d351b-0688-4110-e717-39fd99aa8c8e"
   },
   "outputs": [
    {
     "data": {
      "text/html": [
       "\n",
       "  <div id=\"df-d6940714-fa3a-4ced-8608-acfe79e05a89\">\n",
       "    <div class=\"colab-df-container\">\n",
       "      <div>\n",
       "<style scoped>\n",
       "    .dataframe tbody tr th:only-of-type {\n",
       "        vertical-align: middle;\n",
       "    }\n",
       "\n",
       "    .dataframe tbody tr th {\n",
       "        vertical-align: top;\n",
       "    }\n",
       "\n",
       "    .dataframe thead th {\n",
       "        text-align: right;\n",
       "    }\n",
       "</style>\n",
       "<table border=\"1\" class=\"dataframe\">\n",
       "  <thead>\n",
       "    <tr style=\"text-align: right;\">\n",
       "      <th></th>\n",
       "      <th>Height</th>\n",
       "      <th>Weight</th>\n",
       "      <th>High_Cholesterol</th>\n",
       "      <th>Blood_Pressure</th>\n",
       "      <th>Mental_Health</th>\n",
       "      <th>Physical_Health</th>\n",
       "      <th>Smoking_Habit</th>\n",
       "      <th>Exercise</th>\n",
       "      <th>Disease</th>\n",
       "      <th>sex</th>\n",
       "      <th>age</th>\n",
       "      <th>Drinking_Habit_ord</th>\n",
       "      <th>Water_Habit_ord</th>\n",
       "      <th>Fruit_Habit_ord</th>\n",
       "      <th>Diabetes_ord</th>\n",
       "      <th>Checkup_ord</th>\n",
       "    </tr>\n",
       "  </thead>\n",
       "  <tbody>\n",
       "    <tr>\n",
       "      <th>0</th>\n",
       "      <td>155</td>\n",
       "      <td>67</td>\n",
       "      <td>358.0</td>\n",
       "      <td>120.0</td>\n",
       "      <td>21</td>\n",
       "      <td>2</td>\n",
       "      <td>0</td>\n",
       "      <td>0</td>\n",
       "      <td>1.0</td>\n",
       "      <td>1</td>\n",
       "      <td>57.0</td>\n",
       "      <td>2</td>\n",
       "      <td>0</td>\n",
       "      <td>4</td>\n",
       "      <td>0</td>\n",
       "      <td>2</td>\n",
       "    </tr>\n",
       "    <tr>\n",
       "      <th>1</th>\n",
       "      <td>173</td>\n",
       "      <td>88</td>\n",
       "      <td>230.0</td>\n",
       "      <td>142.0</td>\n",
       "      <td>9</td>\n",
       "      <td>0</td>\n",
       "      <td>0</td>\n",
       "      <td>0</td>\n",
       "      <td>1.0</td>\n",
       "      <td>0</td>\n",
       "      <td>53.0</td>\n",
       "      <td>1</td>\n",
       "      <td>0</td>\n",
       "      <td>4</td>\n",
       "      <td>0</td>\n",
       "      <td>3</td>\n",
       "    </tr>\n",
       "    <tr>\n",
       "      <th>2</th>\n",
       "      <td>162</td>\n",
       "      <td>68</td>\n",
       "      <td>226.0</td>\n",
       "      <td>122.0</td>\n",
       "      <td>26</td>\n",
       "      <td>0</td>\n",
       "      <td>0</td>\n",
       "      <td>1</td>\n",
       "      <td>1.0</td>\n",
       "      <td>0</td>\n",
       "      <td>48.0</td>\n",
       "      <td>1</td>\n",
       "      <td>1</td>\n",
       "      <td>4</td>\n",
       "      <td>0</td>\n",
       "      <td>2</td>\n",
       "    </tr>\n",
       "    <tr>\n",
       "      <th>3</th>\n",
       "      <td>180</td>\n",
       "      <td>66</td>\n",
       "      <td>313.0</td>\n",
       "      <td>125.0</td>\n",
       "      <td>13</td>\n",
       "      <td>8</td>\n",
       "      <td>0</td>\n",
       "      <td>0</td>\n",
       "      <td>0.0</td>\n",
       "      <td>0</td>\n",
       "      <td>64.0</td>\n",
       "      <td>2</td>\n",
       "      <td>1</td>\n",
       "      <td>4</td>\n",
       "      <td>2</td>\n",
       "      <td>3</td>\n",
       "    </tr>\n",
       "    <tr>\n",
       "      <th>4</th>\n",
       "      <td>180</td>\n",
       "      <td>58</td>\n",
       "      <td>277.0</td>\n",
       "      <td>125.0</td>\n",
       "      <td>18</td>\n",
       "      <td>2</td>\n",
       "      <td>0</td>\n",
       "      <td>1</td>\n",
       "      <td>1.0</td>\n",
       "      <td>0</td>\n",
       "      <td>54.0</td>\n",
       "      <td>1</td>\n",
       "      <td>1</td>\n",
       "      <td>3</td>\n",
       "      <td>2</td>\n",
       "      <td>2</td>\n",
       "    </tr>\n",
       "  </tbody>\n",
       "</table>\n",
       "</div>\n",
       "      <button class=\"colab-df-convert\" onclick=\"convertToInteractive('df-d6940714-fa3a-4ced-8608-acfe79e05a89')\"\n",
       "              title=\"Convert this dataframe to an interactive table.\"\n",
       "              style=\"display:none;\">\n",
       "        \n",
       "  <svg xmlns=\"http://www.w3.org/2000/svg\" height=\"24px\"viewBox=\"0 0 24 24\"\n",
       "       width=\"24px\">\n",
       "    <path d=\"M0 0h24v24H0V0z\" fill=\"none\"/>\n",
       "    <path d=\"M18.56 5.44l.94 2.06.94-2.06 2.06-.94-2.06-.94-.94-2.06-.94 2.06-2.06.94zm-11 1L8.5 8.5l.94-2.06 2.06-.94-2.06-.94L8.5 2.5l-.94 2.06-2.06.94zm10 10l.94 2.06.94-2.06 2.06-.94-2.06-.94-.94-2.06-.94 2.06-2.06.94z\"/><path d=\"M17.41 7.96l-1.37-1.37c-.4-.4-.92-.59-1.43-.59-.52 0-1.04.2-1.43.59L10.3 9.45l-7.72 7.72c-.78.78-.78 2.05 0 2.83L4 21.41c.39.39.9.59 1.41.59.51 0 1.02-.2 1.41-.59l7.78-7.78 2.81-2.81c.8-.78.8-2.07 0-2.86zM5.41 20L4 18.59l7.72-7.72 1.47 1.35L5.41 20z\"/>\n",
       "  </svg>\n",
       "      </button>\n",
       "      \n",
       "  <style>\n",
       "    .colab-df-container {\n",
       "      display:flex;\n",
       "      flex-wrap:wrap;\n",
       "      gap: 12px;\n",
       "    }\n",
       "\n",
       "    .colab-df-convert {\n",
       "      background-color: #E8F0FE;\n",
       "      border: none;\n",
       "      border-radius: 50%;\n",
       "      cursor: pointer;\n",
       "      display: none;\n",
       "      fill: #1967D2;\n",
       "      height: 32px;\n",
       "      padding: 0 0 0 0;\n",
       "      width: 32px;\n",
       "    }\n",
       "\n",
       "    .colab-df-convert:hover {\n",
       "      background-color: #E2EBFA;\n",
       "      box-shadow: 0px 1px 2px rgba(60, 64, 67, 0.3), 0px 1px 3px 1px rgba(60, 64, 67, 0.15);\n",
       "      fill: #174EA6;\n",
       "    }\n",
       "\n",
       "    [theme=dark] .colab-df-convert {\n",
       "      background-color: #3B4455;\n",
       "      fill: #D2E3FC;\n",
       "    }\n",
       "\n",
       "    [theme=dark] .colab-df-convert:hover {\n",
       "      background-color: #434B5C;\n",
       "      box-shadow: 0px 1px 3px 1px rgba(0, 0, 0, 0.15);\n",
       "      filter: drop-shadow(0px 1px 2px rgba(0, 0, 0, 0.3));\n",
       "      fill: #FFFFFF;\n",
       "    }\n",
       "  </style>\n",
       "\n",
       "      <script>\n",
       "        const buttonEl =\n",
       "          document.querySelector('#df-d6940714-fa3a-4ced-8608-acfe79e05a89 button.colab-df-convert');\n",
       "        buttonEl.style.display =\n",
       "          google.colab.kernel.accessAllowed ? 'block' : 'none';\n",
       "\n",
       "        async function convertToInteractive(key) {\n",
       "          const element = document.querySelector('#df-d6940714-fa3a-4ced-8608-acfe79e05a89');\n",
       "          const dataTable =\n",
       "            await google.colab.kernel.invokeFunction('convertToInteractive',\n",
       "                                                     [key], {});\n",
       "          if (!dataTable) return;\n",
       "\n",
       "          const docLinkHtml = 'Like what you see? Visit the ' +\n",
       "            '<a target=\"_blank\" href=https://colab.research.google.com/notebooks/data_table.ipynb>data table notebook</a>'\n",
       "            + ' to learn more about interactive tables.';\n",
       "          element.innerHTML = '';\n",
       "          dataTable['output_type'] = 'display_data';\n",
       "          await google.colab.output.renderOutput(dataTable, element);\n",
       "          const docLink = document.createElement('div');\n",
       "          docLink.innerHTML = docLinkHtml;\n",
       "          element.appendChild(docLink);\n",
       "        }\n",
       "      </script>\n",
       "    </div>\n",
       "  </div>\n",
       "  "
      ],
      "text/plain": [
       "   Height  Weight  High_Cholesterol  Blood_Pressure  Mental_Health  \\\n",
       "0     155      67             358.0           120.0             21   \n",
       "1     173      88             230.0           142.0              9   \n",
       "2     162      68             226.0           122.0             26   \n",
       "3     180      66             313.0           125.0             13   \n",
       "4     180      58             277.0           125.0             18   \n",
       "\n",
       "   Physical_Health  Smoking_Habit  Exercise  Disease  sex   age  \\\n",
       "0                2              0         0      1.0    1  57.0   \n",
       "1                0              0         0      1.0    0  53.0   \n",
       "2                0              0         1      1.0    0  48.0   \n",
       "3                8              0         0      0.0    0  64.0   \n",
       "4                2              0         1      1.0    0  54.0   \n",
       "\n",
       "   Drinking_Habit_ord  Water_Habit_ord  Fruit_Habit_ord  Diabetes_ord  \\\n",
       "0                   2                0                4             0   \n",
       "1                   1                0                4             0   \n",
       "2                   1                1                4             0   \n",
       "3                   2                1                4             2   \n",
       "4                   1                1                3             2   \n",
       "\n",
       "   Checkup_ord  \n",
       "0            2  \n",
       "1            3  \n",
       "2            2  \n",
       "3            3  \n",
       "4            2  "
      ]
     },
     "execution_count": 17,
     "metadata": {},
     "output_type": "execute_result"
    }
   ],
   "source": [
    "def outliers_remove(df, column):\n",
    "  Q1 = df[column].quantile(.25)\n",
    "  Q3 = df[column].quantile(.75)\n",
    "  IQR = Q3 - Q1\n",
    "  lower_bound = Q1 - 1.5 * IQR\n",
    "  upper_bound = Q3 + 1.5 * IQR\n",
    "  rep_func = lambda x: lower_bound if x < lower_bound else upper_bound if x > upper_bound else x\n",
    "  df[column] = df[column].apply(rep_func)\n",
    "  return df\n",
    "\n",
    "for col in ['age', 'High_Cholesterol', 'Height', 'Weight', 'Blood_Pressure']:\n",
    "  data = outliers_remove(data, col)\n",
    "data.head()"
   ]
  },
  {
   "cell_type": "code",
   "execution_count": 18,
   "metadata": {
    "colab": {
     "base_uri": "https://localhost:8080/",
     "height": 740
    },
    "id": "Gp2o98z02VaK",
    "outputId": "0522fbcc-e876-40e4-96ff-17f5b705bbaa"
   },
   "outputs": [
    {
     "data": {
      "image/png": "[encoded data removed]",
      "text/plain": [
       "<Figure size 1440x792 with 10 Axes>"
      ]
     },
     "metadata": {},
     "output_type": "display_data"
    }
   ],
   "source": [
    "sns.set()\n",
    "fig, axes = plt.subplots(2, ceil(len(numeric_cols[:-6]) / 2), figsize=(20, 11))\n",
    "for ax, feat in zip(axes.flatten(), numeric_cols[:-6]):\n",
    "    ax.hist(data[feat], bins = 15)\n",
    "    ax.set_title(feat, y=-0.13)\n",
    "  \n",
    "title = \"Numeric Variables' Histograms\"\n",
    "plt.suptitle(title)\n",
    "plt.show()"
   ]
  },
  {
   "cell_type": "markdown",
   "metadata": {
    "id": "sZXzdOM4mRq_"
   },
   "source": [
    "We can see that the most of distributions have taken a more recognizable bell-shaped form of a normal distribution. <br>\n",
    "\n",
    "Outliers have vanished. <br>\n",
    "\n",
    "To see new min-max values we call **.describe()** function again:"
   ]
  },
  {
   "cell_type": "code",
   "execution_count": 19,
   "metadata": {
    "colab": {
     "base_uri": "https://localhost:8080/",
     "height": 364
    },
    "id": "TwWVlLjT3xXu",
    "outputId": "04b34a41-47d4-4ad7-ec2c-1633b43d1b6a"
   },
   "outputs": [
    {
     "data": {
      "text/html": [
       "\n",
       "  <div id=\"df-fa867758-98ad-4269-92b4-054d0af258bc\">\n",
       "    <div class=\"colab-df-container\">\n",
       "      <div>\n",
       "<style scoped>\n",
       "    .dataframe tbody tr th:only-of-type {\n",
       "        vertical-align: middle;\n",
       "    }\n",
       "\n",
       "    .dataframe tbody tr th {\n",
       "        vertical-align: top;\n",
       "    }\n",
       "\n",
       "    .dataframe thead th {\n",
       "        text-align: right;\n",
       "    }\n",
       "</style>\n",
       "<table border=\"1\" class=\"dataframe\">\n",
       "  <thead>\n",
       "    <tr style=\"text-align: right;\">\n",
       "      <th></th>\n",
       "      <th>Height</th>\n",
       "      <th>Weight</th>\n",
       "      <th>High_Cholesterol</th>\n",
       "      <th>Blood_Pressure</th>\n",
       "      <th>Mental_Health</th>\n",
       "      <th>Physical_Health</th>\n",
       "      <th>Smoking_Habit</th>\n",
       "      <th>Exercise</th>\n",
       "      <th>Disease</th>\n",
       "      <th>sex</th>\n",
       "      <th>age</th>\n",
       "      <th>Drinking_Habit_ord</th>\n",
       "      <th>Water_Habit_ord</th>\n",
       "      <th>Fruit_Habit_ord</th>\n",
       "      <th>Diabetes_ord</th>\n",
       "      <th>Checkup_ord</th>\n",
       "    </tr>\n",
       "  </thead>\n",
       "  <tbody>\n",
       "    <tr>\n",
       "      <th>count</th>\n",
       "      <td>1025.000000</td>\n",
       "      <td>1025.000000</td>\n",
       "      <td>1025.000000</td>\n",
       "      <td>1025.000000</td>\n",
       "      <td>1025.000000</td>\n",
       "      <td>1025.000000</td>\n",
       "      <td>1025.000000</td>\n",
       "      <td>1025.000000</td>\n",
       "      <td>800.000000</td>\n",
       "      <td>1025.000000</td>\n",
       "      <td>1025.000000</td>\n",
       "      <td>1025.000000</td>\n",
       "      <td>1025.000000</td>\n",
       "      <td>1025.000000</td>\n",
       "      <td>1025.000000</td>\n",
       "      <td>1025.000000</td>\n",
       "    </tr>\n",
       "    <tr>\n",
       "      <th>mean</th>\n",
       "      <td>167.721951</td>\n",
       "      <td>67.821463</td>\n",
       "      <td>248.981463</td>\n",
       "      <td>131.260488</td>\n",
       "      <td>17.389268</td>\n",
       "      <td>4.738537</td>\n",
       "      <td>0.149268</td>\n",
       "      <td>0.663415</td>\n",
       "      <td>0.513750</td>\n",
       "      <td>0.304390</td>\n",
       "      <td>54.702439</td>\n",
       "      <td>1.485854</td>\n",
       "      <td>0.640976</td>\n",
       "      <td>3.245854</td>\n",
       "      <td>1.118049</td>\n",
       "      <td>2.323902</td>\n",
       "    </tr>\n",
       "    <tr>\n",
       "      <th>std</th>\n",
       "      <td>7.982877</td>\n",
       "      <td>12.251687</td>\n",
       "      <td>47.746162</td>\n",
       "      <td>16.532208</td>\n",
       "      <td>5.281313</td>\n",
       "      <td>5.596449</td>\n",
       "      <td>0.356527</td>\n",
       "      <td>0.472772</td>\n",
       "      <td>0.500124</td>\n",
       "      <td>0.460373</td>\n",
       "      <td>9.463604</td>\n",
       "      <td>0.528527</td>\n",
       "      <td>0.664295</td>\n",
       "      <td>1.030798</td>\n",
       "      <td>1.183676</td>\n",
       "      <td>0.620660</td>\n",
       "    </tr>\n",
       "    <tr>\n",
       "      <th>min</th>\n",
       "      <td>151.000000</td>\n",
       "      <td>40.000000</td>\n",
       "      <td>130.000000</td>\n",
       "      <td>94.000000</td>\n",
       "      <td>0.000000</td>\n",
       "      <td>0.000000</td>\n",
       "      <td>0.000000</td>\n",
       "      <td>0.000000</td>\n",
       "      <td>0.000000</td>\n",
       "      <td>0.000000</td>\n",
       "      <td>29.000000</td>\n",
       "      <td>0.000000</td>\n",
       "      <td>0.000000</td>\n",
       "      <td>0.000000</td>\n",
       "      <td>0.000000</td>\n",
       "      <td>0.000000</td>\n",
       "    </tr>\n",
       "    <tr>\n",
       "      <th>25%</th>\n",
       "      <td>162.000000</td>\n",
       "      <td>58.000000</td>\n",
       "      <td>215.000000</td>\n",
       "      <td>120.000000</td>\n",
       "      <td>13.000000</td>\n",
       "      <td>0.000000</td>\n",
       "      <td>0.000000</td>\n",
       "      <td>0.000000</td>\n",
       "      <td>0.000000</td>\n",
       "      <td>0.000000</td>\n",
       "      <td>48.000000</td>\n",
       "      <td>1.000000</td>\n",
       "      <td>0.000000</td>\n",
       "      <td>3.000000</td>\n",
       "      <td>0.000000</td>\n",
       "      <td>2.000000</td>\n",
       "    </tr>\n",
       "    <tr>\n",
       "      <th>50%</th>\n",
       "      <td>167.000000</td>\n",
       "      <td>68.000000</td>\n",
       "      <td>244.000000</td>\n",
       "      <td>130.000000</td>\n",
       "      <td>18.000000</td>\n",
       "      <td>3.000000</td>\n",
       "      <td>0.000000</td>\n",
       "      <td>1.000000</td>\n",
       "      <td>1.000000</td>\n",
       "      <td>0.000000</td>\n",
       "      <td>56.000000</td>\n",
       "      <td>2.000000</td>\n",
       "      <td>1.000000</td>\n",
       "      <td>4.000000</td>\n",
       "      <td>1.000000</td>\n",
       "      <td>2.000000</td>\n",
       "    </tr>\n",
       "    <tr>\n",
       "      <th>75%</th>\n",
       "      <td>173.000000</td>\n",
       "      <td>77.000000</td>\n",
       "      <td>279.000000</td>\n",
       "      <td>140.000000</td>\n",
       "      <td>21.000000</td>\n",
       "      <td>8.000000</td>\n",
       "      <td>0.000000</td>\n",
       "      <td>1.000000</td>\n",
       "      <td>1.000000</td>\n",
       "      <td>1.000000</td>\n",
       "      <td>61.000000</td>\n",
       "      <td>2.000000</td>\n",
       "      <td>1.000000</td>\n",
       "      <td>4.000000</td>\n",
       "      <td>2.000000</td>\n",
       "      <td>3.000000</td>\n",
       "    </tr>\n",
       "    <tr>\n",
       "      <th>max</th>\n",
       "      <td>180.000000</td>\n",
       "      <td>97.000000</td>\n",
       "      <td>375.000000</td>\n",
       "      <td>170.000000</td>\n",
       "      <td>29.000000</td>\n",
       "      <td>30.000000</td>\n",
       "      <td>1.000000</td>\n",
       "      <td>1.000000</td>\n",
       "      <td>1.000000</td>\n",
       "      <td>1.000000</td>\n",
       "      <td>80.500000</td>\n",
       "      <td>2.000000</td>\n",
       "      <td>2.000000</td>\n",
       "      <td>4.000000</td>\n",
       "      <td>3.000000</td>\n",
       "      <td>3.000000</td>\n",
       "    </tr>\n",
       "  </tbody>\n",
       "</table>\n",
       "</div>\n",
       "      <button class=\"colab-df-convert\" onclick=\"convertToInteractive('df-fa867758-98ad-4269-92b4-054d0af258bc')\"\n",
       "              title=\"Convert this dataframe to an interactive table.\"\n",
       "              style=\"display:none;\">\n",
       "        \n",
       "  <svg xmlns=\"http://www.w3.org/2000/svg\" height=\"24px\"viewBox=\"0 0 24 24\"\n",
       "       width=\"24px\">\n",
       "    <path d=\"M0 0h24v24H0V0z\" fill=\"none\"/>\n",
       "    <path d=\"M18.56 5.44l.94 2.06.94-2.06 2.06-.94-2.06-.94-.94-2.06-.94 2.06-2.06.94zm-11 1L8.5 8.5l.94-2.06 2.06-.94-2.06-.94L8.5 2.5l-.94 2.06-2.06.94zm10 10l.94 2.06.94-2.06 2.06-.94-2.06-.94-.94-2.06-.94 2.06-2.06.94z\"/><path d=\"M17.41 7.96l-1.37-1.37c-.4-.4-.92-.59-1.43-.59-.52 0-1.04.2-1.43.59L10.3 9.45l-7.72 7.72c-.78.78-.78 2.05 0 2.83L4 21.41c.39.39.9.59 1.41.59.51 0 1.02-.2 1.41-.59l7.78-7.78 2.81-2.81c.8-.78.8-2.07 0-2.86zM5.41 20L4 18.59l7.72-7.72 1.47 1.35L5.41 20z\"/>\n",
       "  </svg>\n",
       "      </button>\n",
       "      \n",
       "  <style>\n",
       "    .colab-df-container {\n",
       "      display:flex;\n",
       "      flex-wrap:wrap;\n",
       "      gap: 12px;\n",
       "    }\n",
       "\n",
       "    .colab-df-convert {\n",
       "      background-color: #E8F0FE;\n",
       "      border: none;\n",
       "      border-radius: 50%;\n",
       "      cursor: pointer;\n",
       "      display: none;\n",
       "      fill: #1967D2;\n",
       "      height: 32px;\n",
       "      padding: 0 0 0 0;\n",
       "      width: 32px;\n",
       "    }\n",
       "\n",
       "    .colab-df-convert:hover {\n",
       "      background-color: #E2EBFA;\n",
       "      box-shadow: 0px 1px 2px rgba(60, 64, 67, 0.3), 0px 1px 3px 1px rgba(60, 64, 67, 0.15);\n",
       "      fill: #174EA6;\n",
       "    }\n",
       "\n",
       "    [theme=dark] .colab-df-convert {\n",
       "      background-color: #3B4455;\n",
       "      fill: #D2E3FC;\n",
       "    }\n",
       "\n",
       "    [theme=dark] .colab-df-convert:hover {\n",
       "      background-color: #434B5C;\n",
       "      box-shadow: 0px 1px 3px 1px rgba(0, 0, 0, 0.15);\n",
       "      filter: drop-shadow(0px 1px 2px rgba(0, 0, 0, 0.3));\n",
       "      fill: #FFFFFF;\n",
       "    }\n",
       "  </style>\n",
       "\n",
       "      <script>\n",
       "        const buttonEl =\n",
       "          document.querySelector('#df-fa867758-98ad-4269-92b4-054d0af258bc button.colab-df-convert');\n",
       "        buttonEl.style.display =\n",
       "          google.colab.kernel.accessAllowed ? 'block' : 'none';\n",
       "\n",
       "        async function convertToInteractive(key) {\n",
       "          const element = document.querySelector('#df-fa867758-98ad-4269-92b4-054d0af258bc');\n",
       "          const dataTable =\n",
       "            await google.colab.kernel.invokeFunction('convertToInteractive',\n",
       "                                                     [key], {});\n",
       "          if (!dataTable) return;\n",
       "\n",
       "          const docLinkHtml = 'Like what you see? Visit the ' +\n",
       "            '<a target=\"_blank\" href=https://colab.research.google.com/notebooks/data_table.ipynb>data table notebook</a>'\n",
       "            + ' to learn more about interactive tables.';\n",
       "          element.innerHTML = '';\n",
       "          dataTable['output_type'] = 'display_data';\n",
       "          await google.colab.output.renderOutput(dataTable, element);\n",
       "          const docLink = document.createElement('div');\n",
       "          docLink.innerHTML = docLinkHtml;\n",
       "          element.appendChild(docLink);\n",
       "        }\n",
       "      </script>\n",
       "    </div>\n",
       "  </div>\n",
       "  "
      ],
      "text/plain": [
       "            Height       Weight  High_Cholesterol  Blood_Pressure  \\\n",
       "count  1025.000000  1025.000000       1025.000000     1025.000000   \n",
       "mean    167.721951    67.821463        248.981463      131.260488   \n",
       "std       7.982877    12.251687         47.746162       16.532208   \n",
       "min     151.000000    40.000000        130.000000       94.000000   \n",
       "25%     162.000000    58.000000        215.000000      120.000000   \n",
       "50%     167.000000    68.000000        244.000000      130.000000   \n",
       "75%     173.000000    77.000000        279.000000      140.000000   \n",
       "max     180.000000    97.000000        375.000000      170.000000   \n",
       "\n",
       "       Mental_Health  Physical_Health  Smoking_Habit     Exercise     Disease  \\\n",
       "count    1025.000000      1025.000000    1025.000000  1025.000000  800.000000   \n",
       "mean       17.389268         4.738537       0.149268     0.663415    0.513750   \n",
       "std         5.281313         5.596449       0.356527     0.472772    0.500124   \n",
       "min         0.000000         0.000000       0.000000     0.000000    0.000000   \n",
       "25%        13.000000         0.000000       0.000000     0.000000    0.000000   \n",
       "50%        18.000000         3.000000       0.000000     1.000000    1.000000   \n",
       "75%        21.000000         8.000000       0.000000     1.000000    1.000000   \n",
       "max        29.000000        30.000000       1.000000     1.000000    1.000000   \n",
       "\n",
       "               sex          age  Drinking_Habit_ord  Water_Habit_ord  \\\n",
       "count  1025.000000  1025.000000         1025.000000      1025.000000   \n",
       "mean      0.304390    54.702439            1.485854         0.640976   \n",
       "std       0.460373     9.463604            0.528527         0.664295   \n",
       "min       0.000000    29.000000            0.000000         0.000000   \n",
       "25%       0.000000    48.000000            1.000000         0.000000   \n",
       "50%       0.000000    56.000000            2.000000         1.000000   \n",
       "75%       1.000000    61.000000            2.000000         1.000000   \n",
       "max       1.000000    80.500000            2.000000         2.000000   \n",
       "\n",
       "       Fruit_Habit_ord  Diabetes_ord  Checkup_ord  \n",
       "count      1025.000000   1025.000000  1025.000000  \n",
       "mean          3.245854      1.118049     2.323902  \n",
       "std           1.030798      1.183676     0.620660  \n",
       "min           0.000000      0.000000     0.000000  \n",
       "25%           3.000000      0.000000     2.000000  \n",
       "50%           4.000000      1.000000     2.000000  \n",
       "75%           4.000000      2.000000     3.000000  \n",
       "max           4.000000      3.000000     3.000000  "
      ]
     },
     "execution_count": 19,
     "metadata": {},
     "output_type": "execute_result"
    }
   ],
   "source": [
    "data.describe()"
   ]
  },
  {
   "cell_type": "markdown",
   "metadata": {
    "id": "3Q8ZCFCRpk9g"
   },
   "source": [
    "### 2) Correlation check"
   ]
  },
  {
   "cell_type": "code",
   "execution_count": 20,
   "metadata": {
    "colab": {
     "base_uri": "https://localhost:8080/",
     "height": 693
    },
    "id": "rAzhMuC0o9rR",
    "outputId": "826dfaeb-a950-405f-b399-5713d4f37fdb"
   },
   "outputs": [
    {
     "data": {
      "image/png": "[encoded data removed]",
      "text/plain": [
       "<Figure size 720x720 with 2 Axes>"
      ]
     },
     "metadata": {},
     "output_type": "display_data"
    }
   ],
   "source": [
    "sns.heatmap(data.corr());"
   ]
  },
  {
   "cell_type": "markdown",
   "metadata": {
    "id": "2IC3IIocp2Nt"
   },
   "source": [
    "There are no highly correlated variables except \"Sex\" and \"Height\". But we may leave them as the absolute value is only ~0.6 and \"Sex\" is a binary variable"
   ]
  },
  {
   "cell_type": "markdown",
   "metadata": {
    "id": "xjYvYQb-6x5M"
   },
   "source": [
    "# Train / Val / Test split"
   ]
  },
  {
   "cell_type": "code",
   "execution_count": 21,
   "metadata": {
    "id": "fcV6WTGm68GY"
   },
   "outputs": [],
   "source": [
    "test_df = data[data['Disease'].isnull()].drop(columns = ['Disease'])\n",
    "train_df = data[data['Disease'].notnull()]\n",
    "\n",
    "y = train_df['Disease']\n",
    "X = train_df.drop(columns = ['Disease'])\n",
    "\n",
    "# Train test split\n",
    "X_train, X_test, y_train, y_test = train_test_split(X, y, \n",
    "                                                    test_size = 0.25, \n",
    "                                                    shuffle = True, \n",
    "                                                    random_state = RS)\n",
    "\n",
    "# Scaled copy of the data (for some models)\n",
    "scaler = StandardScaler()\n",
    "X_scaled = scaler.fit_transform(X)\n",
    "X_train_scaled = scaler.transform(X_train)\n",
    "X_test_scaled = scaler.transform(X_test)"
   ]
  },
  {
   "cell_type": "markdown",
   "metadata": {
    "id": "LUfQ71cRpVXG"
   },
   "source": [
    "> ⚠ Actually we did not use the **train/val/test** devision due to usage of K-Folds CV. It will help us to obtain metrics more accuratly and will help us to avoid possible overfitting."
   ]
  },
  {
   "cell_type": "markdown",
   "metadata": {
    "id": "joMbJYB4qkSQ"
   },
   "source": [
    "# ML models\n",
    "1) Logistic Regression<br>\n",
    "2) SVM<br>\n",
    "3) Decision Tree<br>\n",
    "4) MLPClassifier<br>\n",
    "5) Random Forest<br>\n",
    "6) Gradient Boosting\n",
    "7) CatBoost (not sklearn)<br>\n",
    "8) XGBoost (not sklearn)<br>\n",
    "9) AdaBoost<br>\n",
    "10) Stacking Classifier<br>\n"
   ]
  },
  {
   "cell_type": "code",
   "execution_count": 22,
   "metadata": {
    "id": "VTuiaVQqvnnO"
   },
   "outputs": [],
   "source": [
    "plt.rcParams['figure.figsize'] = [8, 6]\n",
    "cv = RepeatedStratifiedKFold(n_splits = 10, n_repeats = 3, random_state = RS)\n",
    "\n",
    "def peformance_check(model, train_data):\n",
    "  avg_f1 = np.mean(cross_val_score(model, train_data, y, scoring = 'f1', cv = cv))\n",
    "  avg_acc = np.mean(cross_val_score(model, train_data, y, scoring = 'accuracy', cv = cv))\n",
    "  avg_recall = np.mean(cross_val_score(model, train_data, y, scoring = 'recall', cv = cv))\n",
    "  avg_prec = np.mean(cross_val_score(model, train_data, y, scoring = 'precision', cv = cv))\n",
    "  return {'f1' : avg_f1, 'Accuracy' : avg_acc, 'Recall' : avg_recall, 'Precision' : avg_prec}\n",
    "\n",
    "def return_f1score(model, X, y):\n",
    "    n_scores = cross_val_score(model, X, y, scoring = 'f1', cv = cv)\n",
    "    return n_scores\n",
    "\n",
    "def return_results(models, X, y, plot = False, par = 'Parameter'):\n",
    "    results, names = [],[]\n",
    "    for name, model in models.items():\n",
    "        scores = return_f1score(model, X, y)\n",
    "        results.append(scores)\n",
    "        names.append(name)\n",
    "        print('>%s %.3f (%.3f)' % (name, scores.mean(), scores.std()))\n",
    "    \n",
    "    if plot:\n",
    "      plt.figure(figsize=(10,6))\n",
    "      plt.boxplot(results, labels = names, showmeans = True)\n",
    "      plt.xticks(fontsize=10)\n",
    "      plt.title(\"F1 evaluation\")\n",
    "      plt.xlabel(f'{par} value') \n",
    "      plt.ylabel('F1 distribution') \n",
    "      plt.show()\n",
    "\n",
    "def get_models(values, template):\n",
    "    models = dict()\n",
    "    for value in values:\n",
    "        models[str(value)] = eval(template)      \n",
    "    return models"
   ]
  },
  {
   "cell_type": "markdown",
   "metadata": {
    "id": "tlGEbrvsqghd"
   },
   "source": [
    "### 1. Logistic Regression"
   ]
  },
  {
   "cell_type": "code",
   "execution_count": 23,
   "metadata": {
    "colab": {
     "base_uri": "https://localhost:8080/"
    },
    "id": "EWZ4290P3XSa",
    "outputId": "7bee6ab1-d78a-4ea0-bd95-843355f3011c"
   },
   "outputs": [
    {
     "name": "stdout",
     "output_type": "stream",
     "text": [
      ">liblinear 0.839 (0.049)\n",
      ">lbfgs 0.839 (0.049)\n",
      ">newton-cg 0.839 (0.049)\n",
      ">sag 0.839 (0.049)\n",
      ">saga 0.839 (0.049)\n"
     ]
    }
   ],
   "source": [
    "models = get_models(['liblinear', 'lbfgs', 'newton-cg', 'sag', 'saga'], template = \"LogisticRegression(solver = value)\")\n",
    "return_results(models, X_train_scaled, y_train, plot = False)"
   ]
  },
  {
   "cell_type": "code",
   "execution_count": 24,
   "metadata": {
    "colab": {
     "base_uri": "https://localhost:8080/"
    },
    "id": "FvtyX1l33PB0",
    "outputId": "87d5f49d-5b04-42f5-babb-07de90d5302f"
   },
   "outputs": [
    {
     "name": "stdout",
     "output_type": "stream",
     "text": [
      "Best parameters: {'penalty': 'l2', 'solver': 'lbfgs'}\n",
      "\n",
      "Average Metrics using K-Folds CV:\n"
     ]
    },
    {
     "data": {
      "text/plain": [
       "{'f1': 0.8337065017391182,\n",
       " 'Accuracy': 0.8262499999999998,\n",
       " 'Recall': 0.8475222609368952,\n",
       " 'Precision': 0.8238771082868575}"
      ]
     },
     "execution_count": 24,
     "metadata": {},
     "output_type": "execute_result"
    }
   ],
   "source": [
    "parameters = {\"penalty\":[\"l1\",\"l2\"], \"solver\" : ['lbfgs']}\n",
    "lreg = LogisticRegression()\n",
    "logreg_cv = GridSearchCV(lreg, parameters, cv=cv)\n",
    "logreg_cv.fit(X, y)\n",
    "lr_bp = logreg_cv.best_params_\n",
    "print('Best parameters:', lr_bp)\n",
    "\n",
    "print('\\nAverage Metrics using K-Folds CV:')\n",
    "peformance_check(LogisticRegression(**lr_bp), X)"
   ]
  },
  {
   "cell_type": "markdown",
   "metadata": {
    "id": "lk-hfjVbw_yS"
   },
   "source": [
    "### 2. SVM"
   ]
  },
  {
   "cell_type": "code",
   "execution_count": 25,
   "metadata": {
    "colab": {
     "base_uri": "https://localhost:8080/",
     "height": 642
    },
    "id": "FhFPIgeifGcN",
    "outputId": "f4f0f3c2-a996-42e2-9b34-eab97c347567"
   },
   "outputs": [
    {
     "name": "stdout",
     "output_type": "stream",
     "text": [
      "F1 evaluation (on \"C\" Regularisation)\n",
      ">3 0.928 (0.027)\n",
      ">4 0.936 (0.029)\n",
      ">5 0.940 (0.030)\n",
      ">6 0.948 (0.027)\n",
      ">7 0.950 (0.025)\n",
      ">8 0.955 (0.023)\n",
      ">9 0.957 (0.021)\n",
      ">10 0.961 (0.020)\n",
      ">11 0.963 (0.020)\n",
      ">12 0.962 (0.020)\n",
      ">13 0.963 (0.019)\n",
      ">14 0.963 (0.019)\n"
     ]
    },
    {
     "data": {
      "image/png": "[encoded data removed]",
      "text/plain": [
       "<Figure size 720x432 with 1 Axes>"
      ]
     },
     "metadata": {},
     "output_type": "display_data"
    }
   ],
   "source": [
    "print('F1 evaluation (on \"C\" Regularisation)')\n",
    "models = get_models(range(3, 15), template = \"SVC(C = value)\")\n",
    "return_results(models, X_scaled, y, plot = True, par = 'C')"
   ]
  },
  {
   "cell_type": "code",
   "execution_count": 26,
   "metadata": {
    "colab": {
     "base_uri": "https://localhost:8080/"
    },
    "id": "X9MdgW0_w-_O",
    "outputId": "8eb066d0-f260-4592-8ac4-152bfa3be5f7"
   },
   "outputs": [
    {
     "name": "stdout",
     "output_type": "stream",
     "text": [
      "F1 evaluation (on \"kernel\")\n",
      ">linear 0.831 (0.047)\n",
      ">poly 0.900 (0.035)\n",
      ">rbf 0.887 (0.041)\n",
      ">sigmoid 0.806 (0.047)\n"
     ]
    }
   ],
   "source": [
    "print('F1 evaluation (on \"kernel\")')\n",
    "models = get_models(['linear', 'poly', 'rbf', 'sigmoid'], template = \"SVC(kernel = value)\")\n",
    "return_results(models, X_train_scaled, y_train)"
   ]
  },
  {
   "cell_type": "code",
   "execution_count": 27,
   "metadata": {
    "colab": {
     "base_uri": "https://localhost:8080/"
    },
    "id": "MRXdjpvl3nRL",
    "outputId": "8bc903d6-41ea-4c1e-ac51-4a5e4588ce44"
   },
   "outputs": [
    {
     "name": "stdout",
     "output_type": "stream",
     "text": [
      "GridSearch of hyperparameters\n",
      "Best parameters optained: {'C': 10, 'kernel': 'rbf', 'random_state': 42}\n",
      "\n",
      "Average Metrics using K-Folds CV:\n"
     ]
    },
    {
     "data": {
      "text/plain": [
       "{'f1': 0.9605868103377131,\n",
       " 'Accuracy': 0.9595833333333333,\n",
       " 'Recall': 0.9586140147115756,\n",
       " 'Precision': 0.9635364731186745}"
      ]
     },
     "execution_count": 27,
     "metadata": {},
     "output_type": "execute_result"
    }
   ],
   "source": [
    "# GridSearch\n",
    "print('GridSearch of hyperparameters')\n",
    "parameters = {\"C\":[10, 11, 12], \n",
    "              \"kernel\" : ['poly', 'rbf'],\n",
    "              \"random_state\" : [RS]}\n",
    "svm_cv = GridSearchCV(SVC(), parameters, cv=cv)\n",
    "svm_cv.fit(X_train_scaled, y_train)\n",
    "\n",
    "svm_bp = svm_cv.best_params_\n",
    "print('Best parameters optained:', svm_bp)\n",
    "\n",
    "print('\\nAverage Metrics using K-Folds CV:')\n",
    "peformance_check(SVC(**svm_bp), X_scaled)"
   ]
  },
  {
   "cell_type": "code",
   "execution_count": 28,
   "metadata": {
    "colab": {
     "base_uri": "https://localhost:8080/"
    },
    "id": "Ke3yWDtch5SJ",
    "outputId": "c93f7fd0-ad84-4765-8d02-cb3efea117ae"
   },
   "outputs": [
    {
     "name": "stdout",
     "output_type": "stream",
     "text": [
      "\n",
      "Average Metrics using K-Folds CV (default model):\n"
     ]
    },
    {
     "data": {
      "text/plain": [
       "{'f1': 0.7346082577822982,\n",
       " 'Accuracy': 0.7095833333333335,\n",
       " 'Recall': 0.7835462640340689,\n",
       " 'Precision': 0.6936001495560483}"
      ]
     },
     "execution_count": 28,
     "metadata": {},
     "output_type": "execute_result"
    }
   ],
   "source": [
    "# Comparison with default model (scaled data)\n",
    "print('\\nAverage Metrics using K-Folds CV (default model):')\n",
    "peformance_check(SVC(random_state = RS), X_scaled)"
   ]
  },
  {
   "cell_type": "code",
   "execution_count": null,
   "metadata": {
    "id": "Htt8PhIsWOXz"
   },
   "outputs": [],
   "source": [
    "# Comparison with default model (unscaled data)\n",
    "print('\\nAverage Metrics using K-Folds CV (default model):')\n",
    "peformance_check(SVC(random_state = RS), X)"
   ]
  },
  {
   "cell_type": "markdown",
   "metadata": {
    "id": "Hc1P-MJp5BgF"
   },
   "source": [
    "### 3. Decision Tree"
   ]
  },
  {
   "cell_type": "code",
   "execution_count": 29,
   "metadata": {
    "colab": {
     "base_uri": "https://localhost:8080/",
     "height": 624
    },
    "id": "b8HYSmjleJWL",
    "outputId": "e0e298cf-8d01-4458-b95a-da9e08b6dc98"
   },
   "outputs": [
    {
     "name": "stdout",
     "output_type": "stream",
     "text": [
      "F1 evaluation (on \"max_depth\")\n",
      ">4 0.843 (0.038)\n",
      ">5 0.869 (0.040)\n",
      ">6 0.913 (0.040)\n",
      ">7 0.932 (0.034)\n",
      ">8 0.953 (0.030)\n",
      ">9 0.958 (0.026)\n",
      ">10 0.960 (0.025)\n",
      ">11 0.960 (0.025)\n",
      ">12 0.962 (0.025)\n",
      ">13 0.962 (0.025)\n",
      ">14 0.962 (0.025)\n"
     ]
    },
    {
     "data": {
      "image/png": "[encoded data removed]",
      "text/plain": [
       "<Figure size 720x432 with 1 Axes>"
      ]
     },
     "metadata": {},
     "output_type": "display_data"
    }
   ],
   "source": [
    "print('F1 evaluation (on \"max_depth\")')\n",
    "models = get_models(range(4, 15, 1), template = \"DecisionTreeClassifier(max_depth = value, random_state = RS)\")\n",
    "return_results(models, X, y, plot = True, par = 'max_depth')"
   ]
  },
  {
   "cell_type": "code",
   "execution_count": 30,
   "metadata": {
    "colab": {
     "base_uri": "https://localhost:8080/"
    },
    "id": "N3rGOpRfCUzM",
    "outputId": "21384262-c038-427d-e498-661ffc1ee6f4"
   },
   "outputs": [
    {
     "name": "stdout",
     "output_type": "stream",
     "text": [
      "GridSearch of hyperparameters\n",
      "Best parameters: {'criterion': 'entropy', 'max_depth': 12, 'random_state': 42}\n",
      "\n",
      "Average Metrics using K-Folds CV:\n"
     ]
    },
    {
     "data": {
      "text/plain": [
       "{'f1': 0.9704716465221013,\n",
       " 'Accuracy': 0.9700000000000001,\n",
       " 'Recall': 0.9610917537746805,\n",
       " 'Precision': 0.9809618224153108}"
      ]
     },
     "execution_count": 30,
     "metadata": {},
     "output_type": "execute_result"
    }
   ],
   "source": [
    "# GridSearch\n",
    "print('GridSearch of hyperparameters')\n",
    "parameters = {\"max_depth\":[9, 10, 11, 12], \n",
    "              \"criterion\" : ['gini', 'entropy'],\n",
    "              \"random_state\" : [RS]}\n",
    "\n",
    "dtc_cv = GridSearchCV(DecisionTreeClassifier(), parameters, cv=cv)\n",
    "dtc_cv.fit(X, y)\n",
    "dtc_bp = dtc_cv.best_params_\n",
    "\n",
    "print('Best parameters:', dtc_bp)\n",
    "print('\\nAverage Metrics using K-Folds CV:')\n",
    "peformance_check(DecisionTreeClassifier(**dtc_bp), X)"
   ]
  },
  {
   "cell_type": "code",
   "execution_count": 31,
   "metadata": {
    "colab": {
     "base_uri": "https://localhost:8080/"
    },
    "id": "Uv0us133hzg7",
    "outputId": "f8727842-e8ec-4545-8adb-648fd775a26f"
   },
   "outputs": [
    {
     "name": "stdout",
     "output_type": "stream",
     "text": [
      "\n",
      "Average Metrics using K-Folds CV (default model):\n"
     ]
    },
    {
     "data": {
      "text/plain": [
       "{'f1': 0.9615022810684548,\n",
       " 'Accuracy': 0.9608333333333334,\n",
       " 'Recall': 0.952168021680217,\n",
       " 'Precision': 0.971936428100637}"
      ]
     },
     "execution_count": 31,
     "metadata": {},
     "output_type": "execute_result"
    }
   ],
   "source": [
    "# Comparison with default model\n",
    "print('\\nAverage Metrics using K-Folds CV (default model):')\n",
    "peformance_check(DecisionTreeClassifier(random_state = RS), X)"
   ]
  },
  {
   "cell_type": "markdown",
   "metadata": {
    "id": "XV7YBroMHDXB"
   },
   "source": [
    "### 4. MLPClassifier"
   ]
  },
  {
   "cell_type": "code",
   "execution_count": 32,
   "metadata": {
    "colab": {
     "base_uri": "https://localhost:8080/"
    },
    "id": "CZuebz0g5ASo",
    "outputId": "8b39e5d8-34e2-419f-d054-5b642f02f582"
   },
   "outputs": [
    {
     "name": "stdout",
     "output_type": "stream",
     "text": [
      "F1 evaluations:\n",
      "\n",
      " > Check for best \"hidden_layer_sizes\"\n",
      ">70 0.830 (0.039)\n",
      ">80 0.816 (0.047)\n",
      ">90 0.814 (0.061)\n",
      ">logistic 0.849 (0.040)\n",
      ">tanh 0.866 (0.040)\n",
      ">relu 0.816 (0.048)\n",
      "\n",
      " > Check for best \"learning_rate_init\"\n",
      ">0.005 0.831 (0.041)\n",
      ">0.001 0.866 (0.040)\n",
      ">0.0005 0.851 (0.037)\n"
     ]
    }
   ],
   "source": [
    "print('F1 evaluations:')\n",
    "print('\\n > Check for best \"hidden_layer_sizes\"')\n",
    "models = get_models([70, 80, 90, 100,], template = \"MLPClassifier(hidden_layer_sizes = value, random_state = RS)\")\n",
    "return_results(models, X, y, plot = False)\n",
    "\n",
    "print('\\n > Check for best \"activation\" function')\n",
    "models = get_models(['logistic', 'tanh', 'relu'], template = \"MLPClassifier(activation = value, random_state = RS)\")\n",
    "return_results(models, X, y, plot = False)\n",
    "\n",
    "print('\\n > Check for best \"learning_rate_init\"')\n",
    "models = get_models([5e-3, 1e-3, 5e-4], template = \"MLPClassifier(activation = 'tanh', learning_rate_init = value, random_state = RS)\")\n",
    "return_results(models, X, y, plot = False)"
   ]
  },
  {
   "cell_type": "code",
   "execution_count": 33,
   "metadata": {
    "colab": {
     "base_uri": "https://localhost:8080/"
    },
    "id": "ZHI1S-zwMNQV",
    "outputId": "500fcd18-1448-4654-95f0-16ac0187f77d"
   },
   "outputs": [
    {
     "name": "stdout",
     "output_type": "stream",
     "text": [
      "GridSearch of MLPClassifier hyperparameters\n",
      "Best parameters: {'activation': 'tanh', 'hidden_layer_sizes': 78, 'learning_rate_init': 0.001, 'random_state': 42}\n",
      "\n",
      "Average Metrics using K-Folds CV:\n"
     ]
    },
    {
     "data": {
      "text/plain": [
       "{'f1': 0.8557330450849273,\n",
       " 'Accuracy': 0.8487500000000002,\n",
       " 'Recall': 0.871873790166473,\n",
       " 'Precision': 0.8432743078875706}"
      ]
     },
     "execution_count": 33,
     "metadata": {},
     "output_type": "execute_result"
    }
   ],
   "source": [
    "# GridSearch\n",
    "print('GridSearch of MLPClassifier hyperparameters')\n",
    "parameters = {\"hidden_layer_sizes\":[78, 80, 82], \n",
    "              \"activation\" : ['logistic', 'tanh'],\n",
    "              \"learning_rate_init\" : [1e-3],\n",
    "              \"random_state\" : [RS]}\n",
    "mlp_cv = GridSearchCV(MLPClassifier(), parameters, cv=cv)\n",
    "mlp_cv.fit(X, y)\n",
    "mlp_bp = mlp_cv.best_params_\n",
    "\n",
    "print('Best parameters:', mlp_bp)\n",
    "print('\\nAverage Metrics using K-Folds CV:')\n",
    "peformance_check(MLPClassifier(**mlp_bp), X)"
   ]
  },
  {
   "cell_type": "code",
   "execution_count": 34,
   "metadata": {
    "colab": {
     "base_uri": "https://localhost:8080/"
    },
    "id": "FePiTH8Thvdz",
    "outputId": "7a3b9082-d025-4479-ef7b-ed199f28706e"
   },
   "outputs": [
    {
     "name": "stdout",
     "output_type": "stream",
     "text": [
      "\n",
      "Average Metrics using K-Folds CV (default model):\n"
     ]
    },
    {
     "data": {
      "text/plain": [
       "{'f1': 0.816396212867879,\n",
       " 'Accuracy': 0.8120833333333335,\n",
       " 'Recall': 0.828281068524971,\n",
       " 'Precision': 0.8230188770782438}"
      ]
     },
     "execution_count": 34,
     "metadata": {},
     "output_type": "execute_result"
    }
   ],
   "source": [
    "# Comparison with default model\n",
    "print('\\nAverage Metrics using K-Folds CV (default model):')\n",
    "peformance_check(MLPClassifier(random_state = RS), X)"
   ]
  },
  {
   "cell_type": "markdown",
   "metadata": {
    "id": "0sgcOOVDNdnB"
   },
   "source": [
    "### 5. Random Forest"
   ]
  },
  {
   "cell_type": "code",
   "execution_count": 35,
   "metadata": {
    "colab": {
     "base_uri": "https://localhost:8080/",
     "height": 535
    },
    "id": "uN0kKrBBNqOP",
    "outputId": "4a72fc93-622b-4a73-8810-3300eac0beaf"
   },
   "outputs": [
    {
     "name": "stdout",
     "output_type": "stream",
     "text": [
      "F1 evaluation (on \"n_estimators\")\n",
      ">50 0.980 (0.014)\n",
      ">60 0.980 (0.016)\n",
      ">70 0.981 (0.017)\n",
      ">80 0.980 (0.018)\n",
      ">90 0.979 (0.017)\n",
      ">100 0.979 (0.017)\n"
     ]
    },
    {
     "data": {
      "image/png": "[encoded data removed]",
      "text/plain": [
       "<Figure size 720x432 with 1 Axes>"
      ]
     },
     "metadata": {},
     "output_type": "display_data"
    }
   ],
   "source": [
    "print('F1 evaluation (on \"n_estimators\")')\n",
    "models = get_models(range(50, 110, 10), template = \"RandomForestClassifier(n_estimators = value, random_state = RS)\")\n",
    "return_results(models, X, y, plot = True, par = 'n_estimators')"
   ]
  },
  {
   "cell_type": "code",
   "execution_count": 36,
   "metadata": {
    "colab": {
     "base_uri": "https://localhost:8080/",
     "height": 606
    },
    "id": "zrfnKtCTOjIF",
    "outputId": "5e0c065b-c71a-4b52-b019-6705f4732d82"
   },
   "outputs": [
    {
     "name": "stdout",
     "output_type": "stream",
     "text": [
      "F1 evaluation (on \"max_depth\")\n",
      ">4 0.884 (0.032)\n",
      ">5 0.906 (0.026)\n",
      ">6 0.932 (0.024)\n",
      ">7 0.955 (0.027)\n",
      ">8 0.971 (0.023)\n",
      ">9 0.974 (0.020)\n",
      ">10 0.975 (0.020)\n",
      ">11 0.976 (0.017)\n",
      ">12 0.978 (0.018)\n",
      ">13 0.978 (0.018)\n"
     ]
    },
    {
     "data": {
      "image/png": "[encoded data removed]",
      "text/plain": [
       "<Figure size 720x432 with 1 Axes>"
      ]
     },
     "metadata": {},
     "output_type": "display_data"
    }
   ],
   "source": [
    "print('F1 evaluation (on \"max_depth\")')\n",
    "models = get_models(range(4, 14, 1), template = \"RandomForestClassifier(max_depth = value, random_state = RS)\")\n",
    "return_results(models, X, y, plot = True, par = 'max_depth')"
   ]
  },
  {
   "cell_type": "code",
   "execution_count": 37,
   "metadata": {
    "colab": {
     "base_uri": "https://localhost:8080/"
    },
    "id": "J31FTXa-PLXG",
    "outputId": "065e0028-8185-440d-fe00-fc62e07cb811"
   },
   "outputs": [
    {
     "name": "stdout",
     "output_type": "stream",
     "text": [
      "F1 evaluations\n",
      "\n",
      " > Check for best \"min_samples_split\"\n",
      ">2 0.979 (0.017)\n",
      ">3 0.979 (0.019)\n",
      ">4 0.974 (0.023)\n",
      ">5 0.967 (0.020)\n",
      "\n",
      " > Check for best \"min_samples_leaf\"\n",
      ">2 0.960 (0.021)\n",
      ">3 0.946 (0.027)\n",
      ">4 0.935 (0.027)\n",
      ">5 0.926 (0.033)\n",
      "\n",
      " > Check for best \"criterion\"\n",
      ">gini 0.979 (0.017)\n",
      ">entropy 0.976 (0.017)\n"
     ]
    }
   ],
   "source": [
    "print('F1 evaluations')\n",
    "print('\\n > Check for best \"min_samples_split\"')\n",
    "models = get_models(range(2, 6, 1), template = \"RandomForestClassifier(min_samples_split = value, random_state = RS)\")\n",
    "return_results(models, X, y)\n",
    "\n",
    "print('\\n > Check for best \"min_samples_leaf\"')\n",
    "models = get_models(range(2, 6, 1), template = \"RandomForestClassifier(min_samples_leaf = value, random_state = RS)\")\n",
    "return_results(models, X, y)\n",
    "\n",
    "print('\\n > Check for best \"criterion\"')\n",
    "models = get_models(['gini', 'entropy'], template = \"RandomForestClassifier(criterion = value, random_state = RS)\")\n",
    "return_results(models, X, y)"
   ]
  },
  {
   "cell_type": "code",
   "execution_count": 38,
   "metadata": {
    "colab": {
     "base_uri": "https://localhost:8080/"
    },
    "id": "eMKK8adyQAAh",
    "outputId": "7c8c52c1-c9c9-4bae-8a47-d6e1d06fb342"
   },
   "outputs": [
    {
     "name": "stdout",
     "output_type": "stream",
     "text": [
      "GridSearch of RandomForest hyperparameters\n",
      "Best parameters: {'max_depth': None, 'n_estimators': 100, 'random_state': 42}\n",
      "\n",
      "Average Metrics using K-Folds CV (obtained model):\n"
     ]
    },
    {
     "data": {
      "text/plain": [
       "{'f1': 0.9785307735376099,\n",
       " 'Accuracy': 0.9779166666666668,\n",
       " 'Recall': 0.9781262098335269,\n",
       " 'Precision': 0.9793426015277972}"
      ]
     },
     "execution_count": 38,
     "metadata": {},
     "output_type": "execute_result"
    }
   ],
   "source": [
    "# GridSearch\n",
    "print('GridSearch of RandomForest hyperparameters')\n",
    "parameters = {\"n_estimators\":[100, 110, 120], \n",
    "              \"max_depth\" : [9, 10, 11, None],\n",
    "              \"random_state\" : [RS]}\n",
    "              \n",
    "rfc_cv = GridSearchCV(RandomForestClassifier(), parameters, cv=cv)\n",
    "rfc_cv.fit(X, y)\n",
    "rfc_bp = rfc_cv.best_params_\n",
    "\n",
    "print('Best parameters:', rfc_bp)\n",
    "\n",
    "print('\\nAverage Metrics using K-Folds CV (obtained model):')\n",
    "peformance_check(RandomForestClassifier(**rfc_bp), X)"
   ]
  },
  {
   "cell_type": "code",
   "execution_count": 39,
   "metadata": {
    "colab": {
     "base_uri": "https://localhost:8080/"
    },
    "id": "mHngY1Eigg_X",
    "outputId": "991e1161-095a-4af1-d183-9386f5c7033d"
   },
   "outputs": [
    {
     "name": "stdout",
     "output_type": "stream",
     "text": [
      "\n",
      "Average Metrics using K-Folds CV (default model):\n"
     ]
    },
    {
     "data": {
      "text/plain": [
       "{'f1': 0.9785307735376099,\n",
       " 'Accuracy': 0.9779166666666668,\n",
       " 'Recall': 0.9781262098335269,\n",
       " 'Precision': 0.9793426015277972}"
      ]
     },
     "execution_count": 39,
     "metadata": {},
     "output_type": "execute_result"
    }
   ],
   "source": [
    "# Comparison with default model\n",
    "print('\\nAverage Metrics using K-Folds CV (default model):')\n",
    "peformance_check(RandomForestClassifier(random_state = RS), X)"
   ]
  },
  {
   "cell_type": "markdown",
   "metadata": {
    "id": "vR1PQNSDMUMA"
   },
   "source": [
    "### 6. Gradient Boosting"
   ]
  },
  {
   "cell_type": "code",
   "execution_count": 40,
   "metadata": {
    "colab": {
     "base_uri": "https://localhost:8080/",
     "height": 589
    },
    "id": "Ln5Pof6WMYIu",
    "outputId": "1f0240f3-2d7d-447a-be6b-d3b5aeb12739"
   },
   "outputs": [
    {
     "name": "stdout",
     "output_type": "stream",
     "text": [
      "F1 evaluation (on \"learning_rate\")\n",
      ">0.001 0.826 (0.044)\n",
      ">0.01 0.854 (0.039)\n",
      ">0.1 0.940 (0.025)\n",
      ">0.2 0.970 (0.024)\n",
      ">0.4 0.981 (0.018)\n",
      ">0.6 0.981 (0.018)\n",
      ">0.8 0.981 (0.017)\n",
      ">1.0 0.983 (0.016)\n",
      ">1.2 0.981 (0.018)\n"
     ]
    },
    {
     "data": {
      "image/png": "[encoded data removed]",
      "text/plain": [
       "<Figure size 720x432 with 1 Axes>"
      ]
     },
     "metadata": {},
     "output_type": "display_data"
    }
   ],
   "source": [
    "print('F1 evaluation (on \"learning_rate\")')\n",
    "models = get_models([0.001, 0.01, 0.1, 0.2, 0.4, 0.6, 0.8, 1.0, 1.2], \n",
    "                    template = \"GradientBoostingClassifier(learning_rate = value, random_state = RS)\")\n",
    "return_results(models, X, y, plot = True, par = 'learning_rate')"
   ]
  },
  {
   "cell_type": "code",
   "execution_count": 41,
   "metadata": {
    "colab": {
     "base_uri": "https://localhost:8080/",
     "height": 624
    },
    "id": "ea-ZsdbGMszv",
    "outputId": "7affc30a-ab67-4791-b94d-999e4ed4e73c"
   },
   "outputs": [
    {
     "name": "stdout",
     "output_type": "stream",
     "text": [
      "F1 evaluation (on \"n_estimators\")\n",
      ">100 0.940 (0.025)\n",
      ">150 0.962 (0.021)\n",
      ">200 0.970 (0.019)\n",
      ">250 0.973 (0.019)\n",
      ">300 0.977 (0.016)\n",
      ">350 0.980 (0.015)\n",
      ">400 0.980 (0.017)\n",
      ">450 0.981 (0.016)\n",
      ">500 0.981 (0.017)\n",
      ">550 0.982 (0.017)\n",
      ">600 0.981 (0.017)\n"
     ]
    },
    {
     "data": {
      "image/png": "[encoded data removed]",
      "text/plain": [
       "<Figure size 720x432 with 1 Axes>"
      ]
     },
     "metadata": {},
     "output_type": "display_data"
    }
   ],
   "source": [
    "print('F1 evaluation (on \"n_estimators\")')\n",
    "models = get_models(range(100, 650, 50), \n",
    "                    template = \"GradientBoostingClassifier(n_estimators = value, random_state = RS)\")\n",
    "return_results(models, X, y, plot = True, par = 'n_estimators')"
   ]
  },
  {
   "cell_type": "code",
   "execution_count": 42,
   "metadata": {
    "colab": {
     "base_uri": "https://localhost:8080/"
    },
    "id": "Jd2Ep4ofQROv",
    "outputId": "3feb7983-3767-46e6-913d-f39f00875b2b"
   },
   "outputs": [
    {
     "name": "stdout",
     "output_type": "stream",
     "text": [
      "F1 evaluation (on \"max_depth\")\n",
      ">3 0.940 (0.025)\n",
      ">4 0.983 (0.017)\n",
      ">5 0.984 (0.018)\n",
      ">6 0.985 (0.015)\n",
      ">7 0.978 (0.021)\n"
     ]
    }
   ],
   "source": [
    "print('F1 evaluation (on \"max_depth\")')\n",
    "models = get_models(range(3, 8), \n",
    "                    template = \"GradientBoostingClassifier(max_depth = value, random_state = RS)\")\n",
    "return_results(models, X, y)"
   ]
  },
  {
   "cell_type": "code",
   "execution_count": 43,
   "metadata": {
    "colab": {
     "base_uri": "https://localhost:8080/"
    },
    "id": "_hqLuU_qQrq3",
    "outputId": "b545a98d-3a77-43b1-e943-3557dbdb893d"
   },
   "outputs": [
    {
     "name": "stdout",
     "output_type": "stream",
     "text": [
      "GridSearch of GradientBoosting hyperparameters\n",
      "Best parameters: {'learning_rate': 0.1, 'max_depth': 6, 'n_estimators': 500, 'random_state': 42}\n",
      "\n",
      "Average Metrics using K-Folds CV (obtained model):\n"
     ]
    },
    {
     "data": {
      "text/plain": [
       "{'f1': 0.9871208818958959,\n",
       " 'Accuracy': 0.9866666666666667,\n",
       " 'Recall': 0.9902632597754548,\n",
       " 'Precision': 0.9844403560767712}"
      ]
     },
     "execution_count": 43,
     "metadata": {},
     "output_type": "execute_result"
    }
   ],
   "source": [
    "# GridSearch\n",
    "print('GridSearch of GradientBoosting hyperparameters')\n",
    "parameters = {\"n_estimators\":[500, 550, 600], \n",
    "              \"max_depth\" : [4, 5, 6, None],\n",
    "              \"learning_rate\" : [0.1, 0.2],\n",
    "              \"random_state\" : [RS]}\n",
    "              \n",
    "gb_cv = GridSearchCV(GradientBoostingClassifier(), parameters, cv=10)\n",
    "gb_cv.fit(X, y)\n",
    "gb_bp = gb_cv.best_params_\n",
    "print('Best parameters:', gb_bp)\n",
    "\n",
    "print('\\nAverage Metrics using K-Folds CV (obtained model):')\n",
    "peformance_check(GradientBoostingClassifier(**gb_bp), X)"
   ]
  },
  {
   "cell_type": "code",
   "execution_count": 44,
   "metadata": {
    "colab": {
     "base_uri": "https://localhost:8080/"
    },
    "id": "8ewECPFFlPsw",
    "outputId": "cefc4f61-1c25-4c90-a992-5403e2032136"
   },
   "outputs": [
    {
     "name": "stdout",
     "output_type": "stream",
     "text": [
      "\n",
      "Average Metrics using K-Folds CV (default model):\n"
     ]
    },
    {
     "data": {
      "text/plain": [
       "{'f1': 0.9401777161761511,\n",
       " 'Accuracy': 0.9383333333333332,\n",
       " 'Recall': 0.9408246225319398,\n",
       " 'Precision': 0.9404971972645944}"
      ]
     },
     "execution_count": 44,
     "metadata": {},
     "output_type": "execute_result"
    }
   ],
   "source": [
    "# Comparison with default model\n",
    "print('\\nAverage Metrics using K-Folds CV (default model):')\n",
    "peformance_check(GradientBoostingClassifier(random_state = RS), X)"
   ]
  },
  {
   "cell_type": "markdown",
   "metadata": {
    "id": "a9iy1YWcnGWf"
   },
   "source": [
    "Comparing with a default GradientBoostingClassifier model we have obtained much better hyperparameters which show us **F1= 0.987** against 0.940 with use of K-Folds CV."
   ]
  },
  {
   "cell_type": "markdown",
   "metadata": {
    "id": "rUxxJeFQbjZA"
   },
   "source": [
    "### 7. CatBoost\n",
    "\n",
    "**CatBoost** is an open-source software library developed by **Yandex**. It provides a gradient boosting framework which among other features attempts to solve for Categorical features using a permutation driven alternative compared to the classical algorithm"
   ]
  },
  {
   "cell_type": "code",
   "execution_count": 45,
   "metadata": {
    "colab": {
     "base_uri": "https://localhost:8080/",
     "height": 553
    },
    "id": "HUAzvncHbidK",
    "outputId": "8837db55-850c-4719-f5c0-6344aa15e0a9"
   },
   "outputs": [
    {
     "name": "stdout",
     "output_type": "stream",
     "text": [
      "F1 evaluation (on \"learning_rate\")\n",
      ">0.001 0.906 (0.029)\n",
      ">0.01 0.983 (0.019)\n",
      ">0.1 0.989 (0.014)\n",
      ">0.3 0.990 (0.012)\n",
      ">0.5 0.989 (0.014)\n",
      ">0.8 0.984 (0.017)\n",
      ">1.0 0.984 (0.015)\n"
     ]
    },
    {
     "data": {
      "image/png": "[encoded data removed]",
      "text/plain": [
       "<Figure size 720x432 with 1 Axes>"
      ]
     },
     "metadata": {},
     "output_type": "display_data"
    }
   ],
   "source": [
    "print('F1 evaluation (on \"learning_rate\")')\n",
    "models = get_models([0.001, 0.01, 0.1, 0.3, 0.5, 0.8, 1.0], \n",
    "                    template = \"CatBoostClassifier(learning_rate = value, silent = True, random_state = RS)\")\n",
    "return_results(models, X, y, plot = True, par = 'learning_rate')"
   ]
  },
  {
   "cell_type": "code",
   "execution_count": 46,
   "metadata": {
    "colab": {
     "base_uri": "https://localhost:8080/",
     "height": 571
    },
    "id": "snfX9R8WfkaQ",
    "outputId": "a0f74c55-b5f7-460c-bc5d-8c8d0b3f54a4"
   },
   "outputs": [
    {
     "name": "stdout",
     "output_type": "stream",
     "text": [
      "F1 evaluation (on \"iterations\")\n",
      ">100 0.927 (0.032)\n",
      ">150 0.929 (0.029)\n",
      ">200 0.976 (0.025)\n",
      ">250 0.979 (0.021)\n",
      ">300 0.977 (0.026)\n",
      ">350 0.978 (0.021)\n",
      ">400 0.979 (0.022)\n",
      ">450 0.979 (0.023)\n"
     ]
    },
    {
     "data": {
      "image/png": "[encoded data removed]",
      "text/plain": [
       "<Figure size 720x432 with 1 Axes>"
      ]
     },
     "metadata": {},
     "output_type": "display_data"
    }
   ],
   "source": [
    "print('F1 evaluation (on \"iterations\")')\n",
    "models = get_models(range(100, 500, 50), \n",
    "                    template = \"CatBoostClassifier(iterations = value, silent = True, random_state = RS)\")\n",
    "return_results(models, X, y, plot = True, par = 'iterations')"
   ]
  },
  {
   "cell_type": "code",
   "execution_count": 47,
   "metadata": {
    "colab": {
     "base_uri": "https://localhost:8080/"
    },
    "id": "m7682dCfguJT",
    "outputId": "339ca03c-b613-4a41-c122-1bb8c0c0d1ab"
   },
   "outputs": [
    {
     "name": "stdout",
     "output_type": "stream",
     "text": [
      "F1 evaluation (on \"depth\")\n",
      ">4 0.950 (0.030)\n",
      ">5 0.970 (0.026)\n",
      ">6 0.982 (0.021)\n",
      ">7 0.988 (0.016)\n",
      ">8 0.989 (0.015)\n",
      ">9 0.989 (0.014)\n",
      ">10 0.990 (0.014)\n"
     ]
    }
   ],
   "source": [
    "print('F1 evaluation (on \"depth\")')\n",
    "models = get_models(range(4, 11, 1), \n",
    "                    template = \"CatBoostClassifier(depth = value, silent = True, random_state = RS)\")\n",
    "return_results(models, X, y)"
   ]
  },
  {
   "cell_type": "code",
   "execution_count": 48,
   "metadata": {
    "colab": {
     "base_uri": "https://localhost:8080/"
    },
    "id": "a19L2P3Gm1em",
    "outputId": "bf4dc6fd-e24d-4ae3-e823-5a5c45faa614"
   },
   "outputs": [
    {
     "name": "stdout",
     "output_type": "stream",
     "text": [
      "GridSearch of CatBoost hyperparameters\n",
      "Best parameters: {'depth': 8, 'iterations': 250, 'learning_rate': 0.2, 'random_state': 42, 'silent': True}\n",
      "\n",
      "Average Metrics using K-Folds CV (obtained model):\n"
     ]
    },
    {
     "data": {
      "text/plain": [
       "{'f1': 0.9894657275538566,\n",
       " 'Accuracy': 0.9891666666666666,\n",
       " 'Recall': 0.9894502516453735,\n",
       " 'Precision': 0.9897448351106888}"
      ]
     },
     "execution_count": 48,
     "metadata": {},
     "output_type": "execute_result"
    }
   ],
   "source": [
    "# GridSearch\n",
    "print('GridSearch of CatBoost hyperparameters')\n",
    "parameters = {\"iterations\":[250, 350, 400], \n",
    "              \"depth\" : [7, 8, None],\n",
    "              \"learning_rate\" : [0.2, 0.3, 0.4],\n",
    "              \"random_state\" : [RS],\n",
    "              \"silent\" : [True]}\n",
    "              \n",
    "cat_cv = GridSearchCV(CatBoostClassifier(), parameters, cv=10)\n",
    "cat_cv.fit(X, y)\n",
    "cat_bp = cat_cv.best_params_\n",
    "print('Best parameters:', cat_bp)\n",
    "\n",
    "print('\\nAverage Metrics using K-Folds CV (obtained model):')\n",
    "peformance_check(CatBoostClassifier(**cat_bp), X)"
   ]
  },
  {
   "cell_type": "code",
   "execution_count": 49,
   "metadata": {
    "colab": {
     "base_uri": "https://localhost:8080/"
    },
    "id": "LssvOPgIo7aj",
    "outputId": "47c209c9-2c9e-481a-9da0-ed7b91bd0936"
   },
   "outputs": [
    {
     "name": "stdout",
     "output_type": "stream",
     "text": [
      "\n",
      "Average Metrics using K-Folds CV (default model):\n"
     ]
    },
    {
     "data": {
      "text/plain": [
       "{'f1': 0.9819105225578109,\n",
       " 'Accuracy': 0.98125,\n",
       " 'Recall': 0.9846109175377469,\n",
       " 'Precision': 0.9795516136979552}"
      ]
     },
     "execution_count": 49,
     "metadata": {},
     "output_type": "execute_result"
    }
   ],
   "source": [
    "# Comparison with default model\n",
    "print('\\nAverage Metrics using K-Folds CV (default model):')\n",
    "peformance_check(CatBoostClassifier(silent = True, random_state = RS), X)"
   ]
  },
  {
   "cell_type": "markdown",
   "metadata": {
    "id": "A_j0zfBJo_Up"
   },
   "source": [
    "Comparing obtained model with a default CatBoost classification we have found much better hyperparameters which lead us **F1= 0.989** against 0.981 with use of K-Folds CV."
   ]
  },
  {
   "cell_type": "markdown",
   "metadata": {
    "id": "M_FhNW4SSZ3h"
   },
   "source": [
    "### XGBoost\n",
    "XGBoost is an optimized distributed gradient boosting library designed to be highly efficient, flexible and portable. It implements machine learning algorithms under the Gradient Boosting framework. XGBoost provides a parallel tree boosting (GBDT, GBM) that solve many data science problems in a fast and accurate way.\n",
    "\n",
    "https://xgboost.readthedocs.io/en/stable/python/python_api.html"
   ]
  },
  {
   "cell_type": "code",
   "execution_count": 50,
   "metadata": {
    "colab": {
     "base_uri": "https://localhost:8080/",
     "height": 571
    },
    "id": "NTC2H6mjSpSy",
    "outputId": "bac06aeb-849f-46ae-8b53-533523ef53c0"
   },
   "outputs": [
    {
     "name": "stdout",
     "output_type": "stream",
     "text": [
      "F1 evaluation (on \"n_estimators\")\n",
      ">300 0.977 (0.017)\n",
      ">350 0.982 (0.014)\n",
      ">400 0.983 (0.014)\n",
      ">450 0.985 (0.013)\n",
      ">500 0.985 (0.014)\n",
      ">550 0.985 (0.013)\n",
      ">600 0.986 (0.013)\n",
      ">650 0.986 (0.013)\n"
     ]
    },
    {
     "data": {
      "image/png": "[encoded data removed]",
      "text/plain": [
       "<Figure size 720x432 with 1 Axes>"
      ]
     },
     "metadata": {},
     "output_type": "display_data"
    }
   ],
   "source": [
    "print('F1 evaluation (on \"n_estimators\")')\n",
    "models = get_models(range(300, 700, 50), template = \"XGBClassifier(n_estimators = value, random_state = RS)\")\n",
    "return_results(models, X, y, plot = True, par = 'n_estimators')"
   ]
  },
  {
   "cell_type": "code",
   "execution_count": 51,
   "metadata": {
    "colab": {
     "base_uri": "https://localhost:8080/",
     "height": 517
    },
    "id": "9uhLPkWkTvLc",
    "outputId": "b80eacce-5847-4b80-c706-cb994b3f31a2"
   },
   "outputs": [
    {
     "name": "stdout",
     "output_type": "stream",
     "text": [
      "F1 evaluation (on \"max_depth\")\n",
      ">4 0.971 (0.021)\n",
      ">6 0.984 (0.018)\n",
      ">8 0.981 (0.019)\n",
      ">10 0.982 (0.018)\n",
      ">12 0.982 (0.018)\n"
     ]
    },
    {
     "data": {
      "image/png": "[encoded data removed]",
      "text/plain": [
       "<Figure size 720x432 with 1 Axes>"
      ]
     },
     "metadata": {},
     "output_type": "display_data"
    }
   ],
   "source": [
    "print('F1 evaluation (on \"max_depth\")')\n",
    "models = get_models(range(4, 14, 2), template = \"XGBClassifier(max_depth = value, random_state = RS)\")\n",
    "return_results(models, X, y, plot = True, par = 'max_depth')"
   ]
  },
  {
   "cell_type": "code",
   "execution_count": 52,
   "metadata": {
    "colab": {
     "base_uri": "https://localhost:8080/"
    },
    "id": "kQtBtyyzU1JG",
    "outputId": "bc804319-c831-4d17-e480-657b93bd79a8"
   },
   "outputs": [
    {
     "name": "stdout",
     "output_type": "stream",
     "text": [
      "Other F1 evaluations\n",
      "\n",
      " > Check for best \"learning_rate\"\n",
      ">1 0.981 (0.017)\n",
      ">0.5 0.983 (0.016)\n",
      ">0.1 0.935 (0.026)\n",
      ">0.01 0.855 (0.045)\n",
      ">0.005 0.833 (0.043)\n",
      "\n",
      " > Check for best \"reg_alpha\" (Lasso L1 Regularization)\n",
      ">1 0.920 (0.025)\n",
      ">0.1 0.932 (0.027)\n",
      ">0.01 0.931 (0.029)\n",
      ">0.005 0.933 (0.027)\n",
      ">0.001 0.935 (0.027)\n",
      ">0 0.935 (0.026)\n",
      "\n",
      " > Check for best \"reg_lambda\" (Ridge L2 Regularization)\n",
      ">1 0.935 (0.026)\n",
      ">0.1 0.940 (0.027)\n",
      ">0.01 0.943 (0.026)\n",
      ">0.005 0.942 (0.023)\n",
      ">0.001 0.944 (0.026)\n",
      ">0 0.943 (0.027)\n"
     ]
    }
   ],
   "source": [
    "print('Other F1 evaluations')\n",
    "print('\\n > Check for best \"learning_rate\"')\n",
    "models = get_models([1, 5e-1, 1e-1, 1e-2, 5e-3], template = \"XGBClassifier(learning_rate = value, random_state = RS)\")\n",
    "return_results(models, X, y, plot = False)\n",
    "\n",
    "print('\\n > Check for best \"reg_alpha\" (Lasso L1 Regularization)')\n",
    "models = get_models([1, 1e-1, 1e-2, 5e-3, 1e-3, 0], template = \"XGBClassifier(reg_alpha = value, random_state = RS)\")\n",
    "return_results(models, X, y, plot = False)\n",
    "\n",
    "print('\\n > Check for best \"reg_lambda\" (Ridge L2 Regularization)')\n",
    "models = get_models([1, 1e-1, 1e-2, 5e-3, 1e-3, 0], template = \"XGBClassifier(reg_lambda = value, random_state = RS)\")\n",
    "return_results(models, X, y, plot = False)"
   ]
  },
  {
   "cell_type": "code",
   "execution_count": 53,
   "metadata": {
    "colab": {
     "base_uri": "https://localhost:8080/"
    },
    "id": "05bTNA0cW41D",
    "outputId": "33eff3a9-cf51-4954-ba7b-d359d43a9157"
   },
   "outputs": [
    {
     "name": "stdout",
     "output_type": "stream",
     "text": [
      "Best parameters: {'learning_rate': 0.5, 'max_depth': 7, 'n_estimators': 550, 'random_state': 42}\n",
      "\n",
      "Average Metrics using K-Folds CV (obtained model):\n"
     ]
    },
    {
     "data": {
      "text/plain": [
       "{'f1': 0.985083319361585,\n",
       " 'Accuracy': 0.9845833333333334,\n",
       " 'Recall': 0.9854239256678282,\n",
       " 'Precision': 0.9851664880989895}"
      ]
     },
     "execution_count": 53,
     "metadata": {},
     "output_type": "execute_result"
    }
   ],
   "source": [
    "parameters = {\"n_estimators\":[550, 600, 650], \n",
    "              \"max_depth\" : [5, 6, 7, None],\n",
    "              \"learning_rate\" : [0.5, 0.1],\n",
    "              \"random_state\" : [RS]}\n",
    "              \n",
    "xgb_cv = GridSearchCV(XGBClassifier(), parameters, cv=10)\n",
    "xgb_cv.fit(X, y)\n",
    "xgb_bp = xgb_cv.best_params_\n",
    "print('Best parameters:', xgb_bp)\n",
    "\n",
    "print('\\nAverage Metrics using K-Folds CV (obtained model):')\n",
    "peformance_check(XGBClassifier(**xgb_bp), X)"
   ]
  },
  {
   "cell_type": "code",
   "execution_count": 54,
   "metadata": {
    "colab": {
     "base_uri": "https://localhost:8080/"
    },
    "id": "zviaDHoewy0Z",
    "outputId": "3aa363c0-9f4c-4ebe-8cc6-d9fcf72ed314"
   },
   "outputs": [
    {
     "name": "stdout",
     "output_type": "stream",
     "text": [
      "\n",
      "Average Metrics using K-Folds CV (default model):\n"
     ]
    },
    {
     "data": {
      "text/plain": [
       "{'f1': 0.935420037646879,\n",
       " 'Accuracy': 0.9333333333333335,\n",
       " 'Recall': 0.9375725900116142,\n",
       " 'Precision': 0.934604617452186}"
      ]
     },
     "execution_count": 54,
     "metadata": {},
     "output_type": "execute_result"
    }
   ],
   "source": [
    "# Comparison with default model\n",
    "print('\\nAverage Metrics using K-Folds CV (default model):')\n",
    "peformance_check(XGBClassifier(random_state = RS), X)"
   ]
  },
  {
   "cell_type": "markdown",
   "metadata": {
    "id": "ldA0l3Y7w5OE"
   },
   "source": [
    "Comparing obtained model with a default XGBoost classification we have found much better hyperparameters which lead us **F1= 0.985** against 0.935 with use of K-Folds CV."
   ]
  },
  {
   "cell_type": "markdown",
   "metadata": {
    "id": "VkjM_xeThHfe"
   },
   "source": [
    "### AdaBoost"
   ]
  },
  {
   "cell_type": "code",
   "execution_count": 55,
   "metadata": {
    "colab": {
     "base_uri": "https://localhost:8080/"
    },
    "id": "dqtSp8KUhLSY",
    "outputId": "88586759-b997-4b3e-d93a-118f66533f42"
   },
   "outputs": [
    {
     "name": "stdout",
     "output_type": "stream",
     "text": [
      "Best \"base_estimator\" search\n",
      "> rf {'f1': 0.9807418750290107, 'Accuracy': 0.9800000000000002, 'Recall': 0.9830236159504453, 'Precision': 0.9790310248038552}\n",
      "> dt {'f1': 0.9674097664805503, 'Accuracy': 0.9666666666666668, 'Recall': 0.9627371273712736, 'Precision': 0.9729871289287643}\n",
      "> lr {'f1': 0.8336476390817145, 'Accuracy': 0.8262499999999999, 'Recall': 0.8466705381339529, 'Precision': 0.8236756694180701}\n"
     ]
    }
   ],
   "source": [
    "print('Best \"base_estimator\" search')\n",
    "models = [('rf', AdaBoostClassifier(base_estimator = RandomForestClassifier(), random_state = RS)),\n",
    "          ('dt', AdaBoostClassifier(base_estimator = DecisionTreeClassifier(), random_state = RS)),\n",
    "          ('lr', AdaBoostClassifier(base_estimator = LogisticRegression(), random_state = RS)),]\n",
    "\n",
    "for model in models:\n",
    "  print('>', model[0], peformance_check(model[1], X))"
   ]
  },
  {
   "cell_type": "markdown",
   "metadata": {
    "id": "YgziYv2oJaKe"
   },
   "source": []
  },
  {
   "cell_type": "code",
   "execution_count": 56,
   "metadata": {
    "colab": {
     "base_uri": "https://localhost:8080/",
     "height": 642
    },
    "id": "bph6LVAXrVee",
    "outputId": "79ba2883-e9c6-4355-807b-fc63ad3a51b7"
   },
   "outputs": [
    {
     "name": "stdout",
     "output_type": "stream",
     "text": [
      "F1 evaluation (on \"max_depth\" of base_estimator model)\n",
      ">4 0.956 (0.027)\n",
      ">5 0.947 (0.026)\n",
      ">6 0.959 (0.026)\n",
      ">7 0.965 (0.025)\n",
      ">8 0.974 (0.022)\n",
      ">9 0.977 (0.019)\n",
      ">10 0.976 (0.017)\n",
      ">11 0.980 (0.016)\n",
      ">12 0.980 (0.015)\n",
      ">13 0.981 (0.014)\n",
      ">14 0.980 (0.015)\n",
      ">15 0.980 (0.015)\n"
     ]
    },
    {
     "data": {
      "image/png": "[encoded data removed]",
      "text/plain": [
       "<Figure size 720x432 with 1 Axes>"
      ]
     },
     "metadata": {},
     "output_type": "display_data"
    }
   ],
   "source": [
    "print('F1 evaluation (on \"max_depth\" of base_estimator model)')\n",
    "models = get_models(range(4, 16), \n",
    "                    template = \"AdaBoostClassifier(base_estimator = RandomForestClassifier(max_depth = value), random_state = RS)\")\n",
    "return_results(models, X, y, plot = True, par = 'max_depth for base_estimator (RandomForestClassifier)')"
   ]
  },
  {
   "cell_type": "markdown",
   "metadata": {
    "id": "-OR7DBvq1aSC"
   },
   "source": [
    "# Models Comparison"
   ]
  },
  {
   "cell_type": "code",
   "execution_count": 57,
   "metadata": {
    "colab": {
     "base_uri": "https://localhost:8080/",
     "height": 428
    },
    "id": "2WiIgewH1ZhZ",
    "outputId": "e2bb59d3-b9c7-45c3-b8f7-5f00a6937abc"
   },
   "outputs": [
    {
     "name": "stderr",
     "output_type": "stream",
     "text": [
      "100%|██████████| 9/9 [08:00<00:00, 53.34s/it]\n"
     ]
    },
    {
     "data": {
      "image/png": "[encoded data removed]",
      "text/plain": [
       "<Figure size 576x432 with 1 Axes>"
      ]
     },
     "metadata": {},
     "output_type": "display_data"
    }
   ],
   "source": [
    "X_scaled = scaler.transform(X)\n",
    "\n",
    "lr = LogisticRegression().set_params(**lr_bp)\n",
    "svm = SVC().set_params(**svm_bp)\n",
    "dtc = DecisionTreeClassifier().set_params(**dtc_bp)\n",
    "mlp = MLPClassifier().set_params(**mlp_bp)\n",
    "rf = RandomForestClassifier().set_params(**rfc_bp)\n",
    "gb = GradientBoostingClassifier().set_params(**gb_bp)\n",
    "catb = CatBoostClassifier().set_params(**cat_bp)\n",
    "xgb = XGBClassifier().set_params(**xgb_bp)\n",
    "ab = AdaBoostClassifier(base_estimator = RandomForestClassifier(max_depth = 13), random_state = RS)\n",
    "\n",
    "models = [lr, svm, dtc, mlp, rf, gb, catb, xgb, ab]\n",
    "need_scalling = [svm]\n",
    "f1_scores, accs, recalls, precs = [], [], [], []\n",
    "for model in tqdm(models):\n",
    "  if model in need_scalling:\n",
    "    X_data = X_scaled\n",
    "  else:\n",
    "    X_data = X.copy()\n",
    "  f1_scores += [np.mean(cross_val_score(model, X_data, y, scoring = 'f1', cv = cv))]\n",
    "  accs += [np.mean(cross_val_score(model, X_data, y, scoring = 'accuracy', cv = cv))]\n",
    "  recalls += [np.mean(cross_val_score(model, X_data, y, scoring = 'recall', cv = cv))]\n",
    "  precs += [np.mean(cross_val_score(model, X_data, y, scoring = 'precision', cv = cv))]\n",
    "\n",
    "models = ['lr','svm','dt','mlp','rf', 'gb','catb','xgb', 'ab']\n",
    "data_tuples = list(zip(models,f1_scores))\n",
    "data_f1_scores = pd.DataFrame(data_tuples).rename(columns = {0:'Model', 1:'F1'}).set_index('Model')\n",
    "data_tuples = list(zip(models, accs))\n",
    "data_accs = pd.DataFrame(data_tuples).rename(columns = {0:'Model', 1:'Accuracy'}).set_index('Model')\n",
    "data_tuples = list(zip(models, recalls))\n",
    "data_recalls = pd.DataFrame(data_tuples).rename(columns = {0:'Model', 1:'Recall'}).set_index('Model')\n",
    "data_tuples = list(zip(models, precs))\n",
    "data_precs = pd.DataFrame(data_tuples).rename(columns = {0:'Model', 1:'Precision'}).set_index('Model')\n",
    "data = pd.concat([data_f1_scores, data_accs, data_recalls, data_precs], axis = 1).sort_values('F1').reset_index()\n",
    "plt.bar(data['Model'], data['F1'])\n",
    "plt.ylim(0.7, 1)\n",
    "plt.xlabel('Model') \n",
    "plt.ylabel('F1 score') \n",
    "plt.title(\"Comparison of models (F1 score)\")\n",
    "plt.show()"
   ]
  },
  {
   "cell_type": "code",
   "execution_count": 58,
   "metadata": {
    "colab": {
     "base_uri": "https://localhost:8080/",
     "height": 332
    },
    "id": "SWUW8Zo12BmW",
    "outputId": "7f37ba7b-709a-4134-d3bb-fe4b2b4daf42"
   },
   "outputs": [
    {
     "data": {
      "text/html": [
       "\n",
       "  <div id=\"df-3a995c70-5220-4f7b-b5fe-0b6534ed030b\">\n",
       "    <div class=\"colab-df-container\">\n",
       "      <div>\n",
       "<style scoped>\n",
       "    .dataframe tbody tr th:only-of-type {\n",
       "        vertical-align: middle;\n",
       "    }\n",
       "\n",
       "    .dataframe tbody tr th {\n",
       "        vertical-align: top;\n",
       "    }\n",
       "\n",
       "    .dataframe thead th {\n",
       "        text-align: right;\n",
       "    }\n",
       "</style>\n",
       "<table border=\"1\" class=\"dataframe\">\n",
       "  <thead>\n",
       "    <tr style=\"text-align: right;\">\n",
       "      <th></th>\n",
       "      <th>Model</th>\n",
       "      <th>F1</th>\n",
       "      <th>Accuracy</th>\n",
       "      <th>Recall</th>\n",
       "      <th>Precision</th>\n",
       "    </tr>\n",
       "  </thead>\n",
       "  <tbody>\n",
       "    <tr>\n",
       "      <th>0</th>\n",
       "      <td>lr</td>\n",
       "      <td>0.833707</td>\n",
       "      <td>0.826250</td>\n",
       "      <td>0.847522</td>\n",
       "      <td>0.823877</td>\n",
       "    </tr>\n",
       "    <tr>\n",
       "      <th>1</th>\n",
       "      <td>mlp</td>\n",
       "      <td>0.855733</td>\n",
       "      <td>0.848750</td>\n",
       "      <td>0.871874</td>\n",
       "      <td>0.843274</td>\n",
       "    </tr>\n",
       "    <tr>\n",
       "      <th>2</th>\n",
       "      <td>svm</td>\n",
       "      <td>0.960587</td>\n",
       "      <td>0.959583</td>\n",
       "      <td>0.958614</td>\n",
       "      <td>0.963536</td>\n",
       "    </tr>\n",
       "    <tr>\n",
       "      <th>3</th>\n",
       "      <td>dt</td>\n",
       "      <td>0.970472</td>\n",
       "      <td>0.970000</td>\n",
       "      <td>0.961092</td>\n",
       "      <td>0.980962</td>\n",
       "    </tr>\n",
       "    <tr>\n",
       "      <th>4</th>\n",
       "      <td>rf</td>\n",
       "      <td>0.978531</td>\n",
       "      <td>0.977917</td>\n",
       "      <td>0.978126</td>\n",
       "      <td>0.979343</td>\n",
       "    </tr>\n",
       "    <tr>\n",
       "      <th>5</th>\n",
       "      <td>ab</td>\n",
       "      <td>0.980721</td>\n",
       "      <td>0.980000</td>\n",
       "      <td>0.983779</td>\n",
       "      <td>0.978233</td>\n",
       "    </tr>\n",
       "    <tr>\n",
       "      <th>6</th>\n",
       "      <td>xgb</td>\n",
       "      <td>0.985083</td>\n",
       "      <td>0.984583</td>\n",
       "      <td>0.985424</td>\n",
       "      <td>0.985166</td>\n",
       "    </tr>\n",
       "    <tr>\n",
       "      <th>7</th>\n",
       "      <td>gb</td>\n",
       "      <td>0.987121</td>\n",
       "      <td>0.986667</td>\n",
       "      <td>0.990263</td>\n",
       "      <td>0.984440</td>\n",
       "    </tr>\n",
       "    <tr>\n",
       "      <th>8</th>\n",
       "      <td>catb</td>\n",
       "      <td>0.989466</td>\n",
       "      <td>0.989167</td>\n",
       "      <td>0.989450</td>\n",
       "      <td>0.989745</td>\n",
       "    </tr>\n",
       "  </tbody>\n",
       "</table>\n",
       "</div>\n",
       "      <button class=\"colab-df-convert\" onclick=\"convertToInteractive('df-3a995c70-5220-4f7b-b5fe-0b6534ed030b')\"\n",
       "              title=\"Convert this dataframe to an interactive table.\"\n",
       "              style=\"display:none;\">\n",
       "        \n",
       "  <svg xmlns=\"http://www.w3.org/2000/svg\" height=\"24px\"viewBox=\"0 0 24 24\"\n",
       "       width=\"24px\">\n",
       "    <path d=\"M0 0h24v24H0V0z\" fill=\"none\"/>\n",
       "    <path d=\"M18.56 5.44l.94 2.06.94-2.06 2.06-.94-2.06-.94-.94-2.06-.94 2.06-2.06.94zm-11 1L8.5 8.5l.94-2.06 2.06-.94-2.06-.94L8.5 2.5l-.94 2.06-2.06.94zm10 10l.94 2.06.94-2.06 2.06-.94-2.06-.94-.94-2.06-.94 2.06-2.06.94z\"/><path d=\"M17.41 7.96l-1.37-1.37c-.4-.4-.92-.59-1.43-.59-.52 0-1.04.2-1.43.59L10.3 9.45l-7.72 7.72c-.78.78-.78 2.05 0 2.83L4 21.41c.39.39.9.59 1.41.59.51 0 1.02-.2 1.41-.59l7.78-7.78 2.81-2.81c.8-.78.8-2.07 0-2.86zM5.41 20L4 18.59l7.72-7.72 1.47 1.35L5.41 20z\"/>\n",
       "  </svg>\n",
       "      </button>\n",
       "      \n",
       "  <style>\n",
       "    .colab-df-container {\n",
       "      display:flex;\n",
       "      flex-wrap:wrap;\n",
       "      gap: 12px;\n",
       "    }\n",
       "\n",
       "    .colab-df-convert {\n",
       "      background-color: #E8F0FE;\n",
       "      border: none;\n",
       "      border-radius: 50%;\n",
       "      cursor: pointer;\n",
       "      display: none;\n",
       "      fill: #1967D2;\n",
       "      height: 32px;\n",
       "      padding: 0 0 0 0;\n",
       "      width: 32px;\n",
       "    }\n",
       "\n",
       "    .colab-df-convert:hover {\n",
       "      background-color: #E2EBFA;\n",
       "      box-shadow: 0px 1px 2px rgba(60, 64, 67, 0.3), 0px 1px 3px 1px rgba(60, 64, 67, 0.15);\n",
       "      fill: #174EA6;\n",
       "    }\n",
       "\n",
       "    [theme=dark] .colab-df-convert {\n",
       "      background-color: #3B4455;\n",
       "      fill: #D2E3FC;\n",
       "    }\n",
       "\n",
       "    [theme=dark] .colab-df-convert:hover {\n",
       "      background-color: #434B5C;\n",
       "      box-shadow: 0px 1px 3px 1px rgba(0, 0, 0, 0.15);\n",
       "      filter: drop-shadow(0px 1px 2px rgba(0, 0, 0, 0.3));\n",
       "      fill: #FFFFFF;\n",
       "    }\n",
       "  </style>\n",
       "\n",
       "      <script>\n",
       "        const buttonEl =\n",
       "          document.querySelector('#df-3a995c70-5220-4f7b-b5fe-0b6534ed030b button.colab-df-convert');\n",
       "        buttonEl.style.display =\n",
       "          google.colab.kernel.accessAllowed ? 'block' : 'none';\n",
       "\n",
       "        async function convertToInteractive(key) {\n",
       "          const element = document.querySelector('#df-3a995c70-5220-4f7b-b5fe-0b6534ed030b');\n",
       "          const dataTable =\n",
       "            await google.colab.kernel.invokeFunction('convertToInteractive',\n",
       "                                                     [key], {});\n",
       "          if (!dataTable) return;\n",
       "\n",
       "          const docLinkHtml = 'Like what you see? Visit the ' +\n",
       "            '<a target=\"_blank\" href=https://colab.research.google.com/notebooks/data_table.ipynb>data table notebook</a>'\n",
       "            + ' to learn more about interactive tables.';\n",
       "          element.innerHTML = '';\n",
       "          dataTable['output_type'] = 'display_data';\n",
       "          await google.colab.output.renderOutput(dataTable, element);\n",
       "          const docLink = document.createElement('div');\n",
       "          docLink.innerHTML = docLinkHtml;\n",
       "          element.appendChild(docLink);\n",
       "        }\n",
       "      </script>\n",
       "    </div>\n",
       "  </div>\n",
       "  "
      ],
      "text/plain": [
       "  Model        F1  Accuracy    Recall  Precision\n",
       "0    lr  0.833707  0.826250  0.847522   0.823877\n",
       "1   mlp  0.855733  0.848750  0.871874   0.843274\n",
       "2   svm  0.960587  0.959583  0.958614   0.963536\n",
       "3    dt  0.970472  0.970000  0.961092   0.980962\n",
       "4    rf  0.978531  0.977917  0.978126   0.979343\n",
       "5    ab  0.980721  0.980000  0.983779   0.978233\n",
       "6   xgb  0.985083  0.984583  0.985424   0.985166\n",
       "7    gb  0.987121  0.986667  0.990263   0.984440\n",
       "8  catb  0.989466  0.989167  0.989450   0.989745"
      ]
     },
     "execution_count": 58,
     "metadata": {},
     "output_type": "execute_result"
    }
   ],
   "source": [
    "data"
   ]
  },
  {
   "cell_type": "markdown",
   "metadata": {
    "id": "a58sgmgX1tNF"
   },
   "source": [
    "We compared all models we created.<br>\n",
    "As we can see the best model is **Random Forest**.<br>\n",
    "But let's check a Stacking Classifier based on the best models"
   ]
  },
  {
   "cell_type": "markdown",
   "metadata": {
    "id": "qiBJCgcj0V_4"
   },
   "source": [
    "## Stacking Classifier"
   ]
  },
  {
   "cell_type": "code",
   "execution_count": 59,
   "metadata": {
    "colab": {
     "base_uri": "https://localhost:8080/"
    },
    "id": "_SjIAy5u1Zl4",
    "outputId": "ea21608a-0045-43bf-dab5-ff897deaf109"
   },
   "outputs": [
    {
     "name": "stdout",
     "output_type": "stream",
     "text": [
      "(GB + RF) + RF\n",
      "\n",
      "Average Metrics using K-Folds CV (obtained model):\n"
     ]
    },
    {
     "data": {
      "text/plain": [
       "{'f1': 0.984196954483417,\n",
       " 'Accuracy': 0.9837500000000001,\n",
       " 'Recall': 0.9845722028648858,\n",
       " 'Precision': 0.9843024666994723}"
      ]
     },
     "execution_count": 59,
     "metadata": {},
     "output_type": "execute_result"
    }
   ],
   "source": [
    "print('(GB + RF) + RF')\n",
    "estimators = [('gb', GradientBoostingClassifier().set_params(**gb_bp)),\n",
    "              ('rf', RandomForestClassifier().set_params(**rfc_bp))]\n",
    "            \n",
    "st = StackingClassifier(estimators=estimators, final_estimator=RandomForestClassifier(random_state = RS))\n",
    "print('\\nAverage Metrics using K-Folds CV (obtained model):')\n",
    "peformance_check(st, X)"
   ]
  },
  {
   "cell_type": "code",
   "execution_count": 63,
   "metadata": {
    "colab": {
     "base_uri": "https://localhost:8080/"
    },
    "id": "GidrbYmL71wg",
    "outputId": "5212d1ef-c567-4a3c-926b-fe512737a659"
   },
   "outputs": [
    {
     "name": "stdout",
     "output_type": "stream",
     "text": [
      "(GB + RF + SVM) + RF\n",
      "\n",
      "Average Metrics using K-Folds CV (obtained model):\n"
     ]
    },
    {
     "data": {
      "text/plain": [
       "{'f1': 0.9878465404984286,\n",
       " 'Accuracy': 0.9875,\n",
       " 'Recall': 0.987824235385211,\n",
       " 'Precision': 0.9882119235777772}"
      ]
     },
     "execution_count": 63,
     "metadata": {},
     "output_type": "execute_result"
    }
   ],
   "source": [
    "print('(GB + RF + SVM) + RF')\n",
    "estimators = [('gb', GradientBoostingClassifier().set_params(**gb_bp)),\n",
    "              ('rf', RandomForestClassifier().set_params(**rfc_bp)),\n",
    "              ('svm', SVC(**svm_bp))]\n",
    "            \n",
    "st = StackingClassifier(estimators=estimators, final_estimator=RandomForestClassifier(random_state = RS))\n",
    "print('\\nAverage Metrics using K-Folds CV (obtained model):')\n",
    "peformance_check(st, X)"
   ]
  },
  {
   "cell_type": "code",
   "execution_count": 65,
   "metadata": {
    "colab": {
     "base_uri": "https://localhost:8080/"
    },
    "id": "RlXCvC7l6S8m",
    "outputId": "44c8a1d3-f1f9-4b15-dced-d659836c2013"
   },
   "outputs": [
    {
     "name": "stdout",
     "output_type": "stream",
     "text": [
      "(GB + RF + SVM + AB) + RF\n",
      "\n",
      "Average Metrics using K-Folds CV (obtained model):\n"
     ]
    },
    {
     "data": {
      "text/plain": [
       "{'f1': 0.9886597691573193,\n",
       " 'Accuracy': 0.9883333333333334,\n",
       " 'Recall': 0.9886178861788618,\n",
       " 'Precision': 0.989037764403618}"
      ]
     },
     "execution_count": 65,
     "metadata": {},
     "output_type": "execute_result"
    }
   ],
   "source": [
    "print('(GB + RF + SVM + AB) + RF')\n",
    "estimators = [('gb', GradientBoostingClassifier().set_params(**gb_bp)),\n",
    "              ('rf', RandomForestClassifier().set_params(**rfc_bp)),\n",
    "              ('svm', SVC(**svm_bp)),\n",
    "              ('ab', AdaBoostClassifier(base_estimator=DecisionTreeClassifier(max_depth = 5), learning_rate = 1.5, random_state = RS))]\n",
    "\n",
    "st = StackingClassifier(estimators=estimators, final_estimator=RandomForestClassifier(random_state = RS))\n",
    "print('\\nAverage Metrics using K-Folds CV (obtained model):')\n",
    "peformance_check(st, X)"
   ]
  },
  {
   "cell_type": "code",
   "execution_count": 61,
   "metadata": {
    "colab": {
     "base_uri": "https://localhost:8080/",
     "height": 424
    },
    "id": "0gU4HQ7W8c_l",
    "outputId": "69780153-8562-4bfe-a91a-088a6822e44f"
   },
   "outputs": [
    {
     "data": {
      "text/html": [
       "\n",
       "  <div id=\"df-a47767fb-cbf1-4d3c-b864-d9719d40f6ce\">\n",
       "    <div class=\"colab-df-container\">\n",
       "      <div>\n",
       "<style scoped>\n",
       "    .dataframe tbody tr th:only-of-type {\n",
       "        vertical-align: middle;\n",
       "    }\n",
       "\n",
       "    .dataframe tbody tr th {\n",
       "        vertical-align: top;\n",
       "    }\n",
       "\n",
       "    .dataframe thead th {\n",
       "        text-align: right;\n",
       "    }\n",
       "</style>\n",
       "<table border=\"1\" class=\"dataframe\">\n",
       "  <thead>\n",
       "    <tr style=\"text-align: right;\">\n",
       "      <th></th>\n",
       "      <th>PatientID</th>\n",
       "      <th>Disease</th>\n",
       "    </tr>\n",
       "  </thead>\n",
       "  <tbody>\n",
       "    <tr>\n",
       "      <th>0</th>\n",
       "      <td>1343</td>\n",
       "      <td>1</td>\n",
       "    </tr>\n",
       "    <tr>\n",
       "      <th>1</th>\n",
       "      <td>1727</td>\n",
       "      <td>1</td>\n",
       "    </tr>\n",
       "    <tr>\n",
       "      <th>2</th>\n",
       "      <td>1828</td>\n",
       "      <td>1</td>\n",
       "    </tr>\n",
       "    <tr>\n",
       "      <th>3</th>\n",
       "      <td>1155</td>\n",
       "      <td>1</td>\n",
       "    </tr>\n",
       "    <tr>\n",
       "      <th>4</th>\n",
       "      <td>1020</td>\n",
       "      <td>0</td>\n",
       "    </tr>\n",
       "    <tr>\n",
       "      <th>...</th>\n",
       "      <td>...</td>\n",
       "      <td>...</td>\n",
       "    </tr>\n",
       "    <tr>\n",
       "      <th>220</th>\n",
       "      <td>1000</td>\n",
       "      <td>0</td>\n",
       "    </tr>\n",
       "    <tr>\n",
       "      <th>221</th>\n",
       "      <td>1256</td>\n",
       "      <td>1</td>\n",
       "    </tr>\n",
       "    <tr>\n",
       "      <th>222</th>\n",
       "      <td>1318</td>\n",
       "      <td>0</td>\n",
       "    </tr>\n",
       "    <tr>\n",
       "      <th>223</th>\n",
       "      <td>1953</td>\n",
       "      <td>1</td>\n",
       "    </tr>\n",
       "    <tr>\n",
       "      <th>224</th>\n",
       "      <td>1757</td>\n",
       "      <td>1</td>\n",
       "    </tr>\n",
       "  </tbody>\n",
       "</table>\n",
       "<p>225 rows × 2 columns</p>\n",
       "</div>\n",
       "      <button class=\"colab-df-convert\" onclick=\"convertToInteractive('df-a47767fb-cbf1-4d3c-b864-d9719d40f6ce')\"\n",
       "              title=\"Convert this dataframe to an interactive table.\"\n",
       "              style=\"display:none;\">\n",
       "        \n",
       "  <svg xmlns=\"http://www.w3.org/2000/svg\" height=\"24px\"viewBox=\"0 0 24 24\"\n",
       "       width=\"24px\">\n",
       "    <path d=\"M0 0h24v24H0V0z\" fill=\"none\"/>\n",
       "    <path d=\"M18.56 5.44l.94 2.06.94-2.06 2.06-.94-2.06-.94-.94-2.06-.94 2.06-2.06.94zm-11 1L8.5 8.5l.94-2.06 2.06-.94-2.06-.94L8.5 2.5l-.94 2.06-2.06.94zm10 10l.94 2.06.94-2.06 2.06-.94-2.06-.94-.94-2.06-.94 2.06-2.06.94z\"/><path d=\"M17.41 7.96l-1.37-1.37c-.4-.4-.92-.59-1.43-.59-.52 0-1.04.2-1.43.59L10.3 9.45l-7.72 7.72c-.78.78-.78 2.05 0 2.83L4 21.41c.39.39.9.59 1.41.59.51 0 1.02-.2 1.41-.59l7.78-7.78 2.81-2.81c.8-.78.8-2.07 0-2.86zM5.41 20L4 18.59l7.72-7.72 1.47 1.35L5.41 20z\"/>\n",
       "  </svg>\n",
       "      </button>\n",
       "      \n",
       "  <style>\n",
       "    .colab-df-container {\n",
       "      display:flex;\n",
       "      flex-wrap:wrap;\n",
       "      gap: 12px;\n",
       "    }\n",
       "\n",
       "    .colab-df-convert {\n",
       "      background-color: #E8F0FE;\n",
       "      border: none;\n",
       "      border-radius: 50%;\n",
       "      cursor: pointer;\n",
       "      display: none;\n",
       "      fill: #1967D2;\n",
       "      height: 32px;\n",
       "      padding: 0 0 0 0;\n",
       "      width: 32px;\n",
       "    }\n",
       "\n",
       "    .colab-df-convert:hover {\n",
       "      background-color: #E2EBFA;\n",
       "      box-shadow: 0px 1px 2px rgba(60, 64, 67, 0.3), 0px 1px 3px 1px rgba(60, 64, 67, 0.15);\n",
       "      fill: #174EA6;\n",
       "    }\n",
       "\n",
       "    [theme=dark] .colab-df-convert {\n",
       "      background-color: #3B4455;\n",
       "      fill: #D2E3FC;\n",
       "    }\n",
       "\n",
       "    [theme=dark] .colab-df-convert:hover {\n",
       "      background-color: #434B5C;\n",
       "      box-shadow: 0px 1px 3px 1px rgba(0, 0, 0, 0.15);\n",
       "      filter: drop-shadow(0px 1px 2px rgba(0, 0, 0, 0.3));\n",
       "      fill: #FFFFFF;\n",
       "    }\n",
       "  </style>\n",
       "\n",
       "      <script>\n",
       "        const buttonEl =\n",
       "          document.querySelector('#df-a47767fb-cbf1-4d3c-b864-d9719d40f6ce button.colab-df-convert');\n",
       "        buttonEl.style.display =\n",
       "          google.colab.kernel.accessAllowed ? 'block' : 'none';\n",
       "\n",
       "        async function convertToInteractive(key) {\n",
       "          const element = document.querySelector('#df-a47767fb-cbf1-4d3c-b864-d9719d40f6ce');\n",
       "          const dataTable =\n",
       "            await google.colab.kernel.invokeFunction('convertToInteractive',\n",
       "                                                     [key], {});\n",
       "          if (!dataTable) return;\n",
       "\n",
       "          const docLinkHtml = 'Like what you see? Visit the ' +\n",
       "            '<a target=\"_blank\" href=https://colab.research.google.com/notebooks/data_table.ipynb>data table notebook</a>'\n",
       "            + ' to learn more about interactive tables.';\n",
       "          element.innerHTML = '';\n",
       "          dataTable['output_type'] = 'display_data';\n",
       "          await google.colab.output.renderOutput(dataTable, element);\n",
       "          const docLink = document.createElement('div');\n",
       "          docLink.innerHTML = docLinkHtml;\n",
       "          element.appendChild(docLink);\n",
       "        }\n",
       "      </script>\n",
       "    </div>\n",
       "  </div>\n",
       "  "
      ],
      "text/plain": [
       "     PatientID  Disease\n",
       "0         1343        1\n",
       "1         1727        1\n",
       "2         1828        1\n",
       "3         1155        1\n",
       "4         1020        0\n",
       "..         ...      ...\n",
       "220       1000        0\n",
       "221       1256        1\n",
       "222       1318        0\n",
       "223       1953        1\n",
       "224       1757        1\n",
       "\n",
       "[225 rows x 2 columns]"
      ]
     },
     "execution_count": 61,
     "metadata": {},
     "output_type": "execute_result"
    }
   ],
   "source": [
    "clf = GradientBoostingClassifier().set_params(**gb_bp).fit(X, y)\n",
    "preds = clf.predict(test_df)\n",
    "\n",
    "sub = pd.DataFrame(data = {'PatientID' : pid, 'Disease' : preds})\n",
    "sub['Disease'] = sub['Disease'].astype(int)\n",
    "sub"
   ]
  },
  {
   "cell_type": "markdown",
   "metadata": {
    "id": "Xvh92BE2Sl0B"
   },
   "source": [
    "## Final prediction"
   ]
  },
  {
   "cell_type": "code",
   "execution_count": null,
   "metadata": {
    "id": "KkbCtdiuZlIU"
   },
   "outputs": [],
   "source": [
    "# clf = RandomForestClassifier().fit(X, y)\n",
    "# preds = clf.predict(test_df)\n",
    "\n",
    "# sub = pd.DataFrame(data = {'PatientID' : pid, 'Disease' : preds})\n",
    "# sub['Disease'] = sub['Disease'].astype(int)\n",
    "# sub"
   ]
  },
  {
   "cell_type": "code",
   "execution_count": 62,
   "metadata": {
    "id": "FcOzmtvWcZp8"
   },
   "outputs": [],
   "source": [
    "sub.to_csv('Group18_VersionGB.csv', index = False)"
   ]
  }
 ],
 "metadata": {
  "colab": {
   "provenance": []
  },
  "kernelspec": {
   "display_name": "Python 3 (ipykernel)",
   "language": "python",
   "name": "python3"
  },
  "language_info": {
   "codemirror_mode": {
    "name": "ipython",
    "version": 3
   },
   "file_extension": ".py",
   "mimetype": "text/x-python",
   "name": "python",
   "nbconvert_exporter": "python",
   "pygments_lexer": "ipython3",
   "version": "3.9.13"
  }
 },
 "nbformat": 4,
 "nbformat_minor": 1
}
